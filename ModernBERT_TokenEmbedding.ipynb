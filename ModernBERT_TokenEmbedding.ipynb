{
  "nbformat": 4,
  "nbformat_minor": 0,
  "metadata": {
    "colab": {
      "provenance": [],
      "authorship_tag": "ABX9TyNNHdiTkDzcnSrO6MNfRup3",
      "include_colab_link": true
    },
    "kernelspec": {
      "name": "python3",
      "display_name": "Python 3"
    },
    "language_info": {
      "name": "python"
    }
  },
  "cells": [
    {
      "cell_type": "markdown",
      "metadata": {
        "id": "view-in-github",
        "colab_type": "text"
      },
      "source": [
        "<a href=\"https://colab.research.google.com/github/raz0208/ModernBERT/blob/main/ModernBERT_TokenEmbedding.ipynb\" target=\"_parent\"><img src=\"https://colab.research.google.com/assets/colab-badge.svg\" alt=\"Open In Colab\"/></a>"
      ]
    },
    {
      "cell_type": "code",
      "source": [
        "# import required libraries\n",
        "import os\n",
        "import numpy as np\n",
        "import pandas as pd\n",
        "from transformers import AutoTokenizer, AutoModel\n",
        "import torch\n",
        "import spacy\n",
        "from keybert import KeyBERT\n",
        "import re"
      ],
      "metadata": {
        "id": "cZKSkc1hkz7d"
      },
      "execution_count": 90,
      "outputs": []
    },
    {
      "cell_type": "code",
      "source": [
        "# Load NLP model for noun phrase extraction\n",
        "nlp = spacy.load(\"en_core_web_sm\")\n",
        "\n",
        "# Load ModernBERT tokenizer and model from Hugging Face\n",
        "MODEL_NAME = \"answerdotai/ModernBERT-base\"\n",
        "tokenizer = AutoTokenizer.from_pretrained(MODEL_NAME)\n",
        "model = AutoModel.from_pretrained(MODEL_NAME)"
      ],
      "metadata": {
        "id": "96X-_jMhkVud"
      },
      "execution_count": 81,
      "outputs": []
    },
    {
      "cell_type": "code",
      "source": [
        "# Function to clean text\n",
        "def clean_text_for_topics(text):\n",
        "    # Remove content in parentheses (e.g., (2015), (note))\n",
        "    text = re.sub(r'\\([^)]*\\)', '', text)\n",
        "\n",
        "    # Remove percentages, currency, units like \"mg\", \"billion\", \"years\", etc.\n",
        "    text = re.sub(r'\\b\\d+(\\.\\d+)?\\s*(%|percent|million|billion|thousand|mg|kg|g|km|cm|years?|months?|days?)\\b', '', text, flags=re.IGNORECASE)\n",
        "\n",
        "    # Remove standalone numbers (integers, decimals, years)\n",
        "    text = re.sub(r'\\b\\d+(\\.\\d+)?\\b', '', text)\n",
        "\n",
        "    # Remove numeric ranges (e.g., 2020–2023 or 10-15)\n",
        "    text = re.sub(r'\\b\\d{2,4}\\s*[-–—]\\s*\\d{2,4}\\b', '', text)\n",
        "\n",
        "    # Remove metadata indicators like \"Deaths:\", \"Rate:\", \"Total:\"\n",
        "    text = re.sub(r'\\b(Deaths?|Rate|Cases?|Total|Incidence|Prevalence|Statistics):?.*', '', text, flags=re.IGNORECASE)\n",
        "\n",
        "    # Remove slashes and colons separating stats or metadata\n",
        "    text = re.sub(r'[:/]', ' ', text)\n",
        "\n",
        "    # Remove extra punctuation and excessive whitespace\n",
        "    text = re.sub(r'[^\\w\\s]', '', text)\n",
        "    text = re.sub(r'\\s{2,}', ' ', text)\n",
        "\n",
        "    return text.strip()"
      ],
      "metadata": {
        "id": "nLpMNhV9z042"
      },
      "execution_count": 98,
      "outputs": []
    },
    {
      "cell_type": "code",
      "source": [
        "# Function to gest text and return the embedding\n",
        "def get_text_embedding(text):\n",
        "    # Tokenize input text\n",
        "    inputs = tokenizer(text, return_tensors=\"pt\", truncation=True, padding=True)\n",
        "\n",
        "    # Forward pass to get hidden states\n",
        "    with torch.no_grad():\n",
        "        outputs = model(**inputs)\n",
        "\n",
        "    # Get the embeddings (use CLS token for sentence-level embedding)\n",
        "    cls_embedding = outputs.last_hidden_state[:, 0, :]  # shape: [batch_size, hidden_size]\n",
        "\n",
        "    return cls_embedding.squeeze().numpy()"
      ],
      "metadata": {
        "id": "mbvLYg9klJuc"
      },
      "execution_count": 82,
      "outputs": []
    },
    {
      "cell_type": "code",
      "source": [
        "# Function to get per-token embeddings\n",
        "def get_token_embeddings(text):\n",
        "\n",
        "    # Call text cleaning function\n",
        "    text = clean_text_for_topics(text)\n",
        "\n",
        "    # Tokenize with return_tensors and also get token strings\n",
        "    inputs = tokenizer(text, return_tensors=\"pt\", truncation=True, padding=True, return_attention_mask=True)\n",
        "    tokens = tokenizer.convert_ids_to_tokens(inputs['input_ids'][0])\n",
        "\n",
        "    # Forward pass\n",
        "    with torch.no_grad():\n",
        "        outputs = model(**inputs)\n",
        "\n",
        "    embeddings = outputs.last_hidden_state.squeeze(0)  # shape: [seq_len, hidden_size]\n",
        "\n",
        "    # Prepare cleaned token list and their embeddings\n",
        "    token_embeddings = []\n",
        "    for token, emb in zip(tokens, embeddings):\n",
        "        # Skip special tokens and punctuation/whitespace\n",
        "        if token in tokenizer.all_special_tokens:\n",
        "            continue\n",
        "        token = token.lstrip(\"Ġ▁\")  # Remove leading space markers from BPE/SentencePiece\n",
        "        if not token.isalnum():  # Skip non-alphanumeric tokens\n",
        "            continue\n",
        "        token_embeddings.append((token, emb.numpy()))\n",
        "\n",
        "    return token_embeddings"
      ],
      "metadata": {
        "id": "QLwE6v7q80Uh"
      },
      "execution_count": 102,
      "outputs": []
    },
    {
      "cell_type": "code",
      "source": [
        "# ### --- ### Basic method for topic sxtraction ### --- ###\n",
        "\n",
        "# # Extract topics (noun phrase) from sentence\n",
        "# def extract_topics(text):\n",
        "#     doc = nlp(text)\n",
        "#     topics = []\n",
        "\n",
        "#     for chunk in doc.noun_chunks:\n",
        "#         # Remove articles/determiners (like \"the\", \"an\", \"a\")\n",
        "#         words = [token.text for token in chunk if token.pos_ != \"DET\"]\n",
        "#         if words:\n",
        "#             cleaned_phrase = \" \".join(words).strip()\n",
        "#             topics.append(cleaned_phrase)\n",
        "\n",
        "#     # Remove duplicates while preserving order\n",
        "#     seen = set()\n",
        "#     unique_topics = []\n",
        "#     for topic in topics:\n",
        "#         if topic.lower() not in seen:\n",
        "#             unique_topics.append(topic)\n",
        "#             seen.add(topic.lower())\n",
        "\n",
        "#     return unique_topics"
      ],
      "metadata": {
        "id": "DIxCEz-kL5e_"
      },
      "execution_count": 76,
      "outputs": []
    },
    {
      "cell_type": "code",
      "source": [
        "# ### --- ### Second method for topic sxtraction ### --- ###\n",
        "\n",
        "# # Extract topics (noun phrase) from sentence\n",
        "# def extract_topics(text):\n",
        "#     doc = nlp(text)\n",
        "#     topics = []\n",
        "\n",
        "#     # 1. Add noun chunks (excluding determiners)\n",
        "#     for chunk in doc.noun_chunks:\n",
        "#         words = [token.text for token in chunk if token.pos_ != \"DET\"]\n",
        "#         if words:\n",
        "#             cleaned = \" \".join(words).strip()\n",
        "#             topics.append(cleaned)\n",
        "\n",
        "#     # 2. Add standalone noun tokens (important for medical terms like \"diabetes\")\n",
        "#     for token in doc:\n",
        "#         if token.pos_ == \"NOUN\" and not token.is_stop:\n",
        "#             topics.append(token.text.strip())\n",
        "\n",
        "#     # 3. Add named entities related to medical types\n",
        "#     for ent in doc.ents:\n",
        "#         if ent.label_ in {\"DISEASE\", \"CONDITION\", \"MEDICAL_CONDITION\", \"HEALTH_CONDITION\", \"SYMPTOM\"}:\n",
        "#             topics.append(ent.text.strip())\n",
        "\n",
        "#     # 4. Clean and deduplicate\n",
        "#     seen = set()\n",
        "#     unique_topics = []\n",
        "#     for topic in topics:\n",
        "#         topic_clean = topic.lower()\n",
        "#         if topic_clean not in seen and topic_clean.isalpha():\n",
        "#             unique_topics.append(topic)\n",
        "#             seen.add(topic_clean)\n",
        "\n",
        "#     return unique_topics"
      ],
      "metadata": {
        "id": "FejKehEIiwkj"
      },
      "execution_count": 49,
      "outputs": []
    },
    {
      "cell_type": "code",
      "source": [
        "### --- ### Third method for topic sxtraction ### --- ###\n",
        "\n",
        "# Extract topics (noun phrase) from sentence\n",
        "def extract_topics(text):\n",
        "    doc = nlp(text)\n",
        "    topics = []\n",
        "\n",
        "    for chunk in doc.noun_chunks:\n",
        "        # Filter out leading adjectives or modifiers (e.g., \"high\")\n",
        "        filtered_tokens = []\n",
        "        for token in chunk:\n",
        "            if token.pos_ == \"DET\":  # Skip determiners\n",
        "                continue\n",
        "            if token.pos_ in [\"ADJ\", \"ADV\"]:  # Skip adjectives/adverbs like \"high\", \"mild\"\n",
        "                continue\n",
        "            filtered_tokens.append(token.text)\n",
        "\n",
        "        if filtered_tokens:\n",
        "            cleaned_phrase = \" \".join(filtered_tokens).strip()\n",
        "            topics.append(cleaned_phrase)\n",
        "\n",
        "    # Also look for standalone nouns not in noun_chunks (e.g., 'diabetes')\n",
        "    for token in doc:\n",
        "        if token.pos_ == \"NOUN\" and not any(token.text in topic for topic in topics):\n",
        "            topics.append(token.text)\n",
        "        elif token.pos_ == \"PROPN\":  # Optional: catch proper nouns like 'Alzheimer'\n",
        "            topics.append(token.text)\n",
        "        elif token.ent_type_ in [\"DISEASE\", \"CONDITION\"]:  # If you have a custom NER\n",
        "            topics.append(token.text)\n",
        "\n",
        "    # Remove duplicates while preserving order\n",
        "    seen = set()\n",
        "    unique_topics = []\n",
        "    for topic in topics:\n",
        "        topic_lower = topic.lower()\n",
        "        if topic_lower not in seen:\n",
        "            unique_topics.append(topic)\n",
        "            seen.add(topic_lower)\n",
        "\n",
        "    return unique_topics"
      ],
      "metadata": {
        "id": "gz22zUHpwnmO"
      },
      "execution_count": 95,
      "outputs": []
    },
    {
      "cell_type": "code",
      "source": [
        "### --- ### Sample text for test ### --- ###\n",
        "\n",
        "# 1- This is an application about Breast Cancer.\n",
        "# 2- Treating high blood pressure, high blood lipids, diabetes\n",
        "# 3- Heart failure, heart attack, stroke, aneurysm, peripheral artery disease, sudden cardiac arrest. Deaths: 17.9 million / 32% (2015)"
      ],
      "metadata": {
        "id": "QNYU-UXcxlQV"
      },
      "execution_count": 88,
      "outputs": []
    },
    {
      "cell_type": "code",
      "source": [
        "# Example usage (Sentence: This is an application about Breast Cancer.)\n",
        "if __name__ == \"__main__\":\n",
        "    user_text = input(\"Enter your text: \")\n",
        "\n",
        "    # Get sentence embedding\n",
        "    embedding = get_text_embedding(user_text)\n",
        "    print(\"\\nSentence Embedding vector shape:\", embedding.shape)\n",
        "    print(\"Sentence Embedding (first 10 values):\", embedding[:10])\n",
        "\n",
        "    # Get per-token embeddings\n",
        "    token_embeddings = get_token_embeddings(user_text)\n",
        "    print(\"\\nToken-wise Embeddings:\")\n",
        "    for token, emb in token_embeddings:\n",
        "        print(f\"Token: {token:15} | Embedding (first 5 vals): {emb[:5]}\")\n",
        "\n",
        "    # Extract topic and embedding\n",
        "\n",
        "    topics = extract_topics(user_text)\n",
        "    if topics:\n",
        "        print(f\"\\nIdentified topics: {topics}\")\n",
        "        for topic in topics:\n",
        "            topic_embedding = get_text_embedding(topic)\n",
        "            print(f\"\\nTopic: '{topic}'\")\n",
        "            print(\"Embedding shape:\", topic_embedding.shape)\n",
        "            print(\"Embedding (first 5 values):\", topic_embedding[:5])\n",
        "    else:\n",
        "        print(\"No topics found.\")"
      ],
      "metadata": {
        "colab": {
          "base_uri": "https://localhost:8080/"
        },
        "id": "weFFk2QDlHh0",
        "outputId": "2530ca74-c939-4071-cd8c-7e5217cc3b07"
      },
      "execution_count": 101,
      "outputs": [
        {
          "output_type": "stream",
          "name": "stdout",
          "text": [
            "Enter your text: Heart failure, heart attack, stroke, aneurysm, peripheral artery disease, sudden cardiac arrest. Deaths: 17.9 million / 32% (2015)\n",
            "\n",
            "Sentence Embedding vector shape: (768,)\n",
            "Sentence Embedding (first 10 values): [ 0.43869126 -0.26175603 -0.7007977   0.22565924 -0.38932806 -0.41834965\n",
            " -1.1746391  -0.8032964   0.19345134 -0.10638831]\n",
            "\n",
            "Token-wise Embeddings:\n",
            "Token: Heart           | Embedding (first 5 vals): [ 1.9262248  -0.12058116 -1.2037839   1.3038303  -0.03958454]\n",
            "Token: failure         | Embedding (first 5 vals): [ 2.3697524  -1.0546623  -0.11850291 -0.5838296  -0.31001613]\n",
            "Token: heart           | Embedding (first 5 vals): [ 0.8404026   0.05906971 -0.9069229   1.2456083   0.54214466]\n",
            "Token: attack          | Embedding (first 5 vals): [ 2.4122322  -0.2046777  -0.83903587  0.32852495  0.6928131 ]\n",
            "Token: stroke          | Embedding (first 5 vals): [ 1.7170231  -0.38987762 -0.983396    0.346988    1.3787143 ]\n",
            "Token: aneurysm        | Embedding (first 5 vals): [-0.13797541 -1.3197811  -1.3123797   0.22609773  0.25870275]\n",
            "Token: peripheral      | Embedding (first 5 vals): [-1.2260675 -0.0836109 -2.3386135 -0.8953178 -1.3945224]\n",
            "Token: artery          | Embedding (first 5 vals): [ 0.82591945 -0.28334582 -1.4346718  -0.38537902  0.37937   ]\n",
            "Token: disease         | Embedding (first 5 vals): [ 0.61579406 -0.45243895 -0.45068976  0.21838188  0.6969767 ]\n",
            "Token: sudden          | Embedding (first 5 vals): [-1.3539941   0.11062065 -1.6142473  -0.34190947 -0.58328557]\n",
            "Token: cardiac         | Embedding (first 5 vals): [ 1.0982563  -0.4415181  -1.4591045   0.60730594  0.9863214 ]\n",
            "Token: arrest          | Embedding (first 5 vals): [ 0.874989   -1.5557588  -0.37061802  0.7393753   1.1106353 ]\n",
            "Token: Death           | Embedding (first 5 vals): [ 0.8433852  -0.3557585   0.63539547  0.964319   -0.01059337]\n",
            "Token: s               | Embedding (first 5 vals): [ 0.2954585 -1.3071618  1.2815149  0.9214609 -0.0902744]\n",
            "Token: 17              | Embedding (first 5 vals): [-0.66789675 -0.20521545 -1.312583    1.3930575   0.31190184]\n",
            "Token: 9               | Embedding (first 5 vals): [-1.9105635   1.6166669   1.3559113  -0.04548489  1.8631265 ]\n",
            "Token: million         | Embedding (first 5 vals): [ 4.0062127e-01 -9.8881572e-01 -6.7581099e-01  8.8399291e-01\n",
            "  8.6695200e-04]\n",
            "Token: 32              | Embedding (first 5 vals): [-0.28400242  1.0953752  -0.13988331  1.3388782   0.7401058 ]\n",
            "Token: 2015            | Embedding (first 5 vals): [-0.5388772   1.3362166   0.538335    0.7951816  -0.29443532]\n",
            "\n",
            "Identified topics: ['Heart failure', 'heart attack', 'stroke', 'aneurysm', 'artery disease', 'arrest', 'Deaths', '17.9 million / 32 %']\n",
            "\n",
            "Topic: 'Heart failure'\n",
            "Embedding shape: (768,)\n",
            "Embedding (first 5 values): [ 0.16492663  0.02263031  0.21004711  0.06224616 -0.02963544]\n",
            "\n",
            "Topic: 'heart attack'\n",
            "Embedding shape: (768,)\n",
            "Embedding (first 5 values): [ 0.94546443 -1.028872   -0.8995476  -0.31431967 -0.8673811 ]\n",
            "\n",
            "Topic: 'stroke'\n",
            "Embedding shape: (768,)\n",
            "Embedding (first 5 values): [ 0.30824003  1.1333296  -0.49130827  0.3495477  -0.87221336]\n",
            "\n",
            "Topic: 'aneurysm'\n",
            "Embedding shape: (768,)\n",
            "Embedding (first 5 values): [ 0.10142252 -0.0001621  -0.12641908 -0.02018686 -0.04443587]\n",
            "\n",
            "Topic: 'artery disease'\n",
            "Embedding shape: (768,)\n",
            "Embedding (first 5 values): [ 0.17542502 -0.1098436   0.16160141  0.03005157 -0.06850764]\n",
            "\n",
            "Topic: 'arrest'\n",
            "Embedding shape: (768,)\n",
            "Embedding (first 5 values): [ 0.1081781  -0.00157172  0.10994342 -0.04489729 -0.08740073]\n",
            "\n",
            "Topic: 'Deaths'\n",
            "Embedding shape: (768,)\n",
            "Embedding (first 5 values): [ 0.14946249  0.01291869  0.21200925  0.0697582  -0.06043363]\n",
            "\n",
            "Topic: '17.9 million / 32 %'\n",
            "Embedding shape: (768,)\n",
            "Embedding (first 5 values): [ 0.18070573  0.05313674  0.1824678   0.09496473 -0.03823716]\n"
          ]
        }
      ]
    }
  ]
}