{
  "nbformat": 4,
  "nbformat_minor": 0,
  "metadata": {
    "colab": {
      "provenance": [],
      "authorship_tag": "ABX9TyOQnM1qP9CufBMtVKQpBjJA",
      "include_colab_link": true
    },
    "kernelspec": {
      "name": "python3",
      "display_name": "Python 3"
    },
    "language_info": {
      "name": "python"
    }
  },
  "cells": [
    {
      "cell_type": "markdown",
      "metadata": {
        "id": "view-in-github",
        "colab_type": "text"
      },
      "source": [
        "<a href=\"https://colab.research.google.com/github/raz0208/ModernBERT/blob/main/ModernBERT_TokenEmbedding.ipynb\" target=\"_parent\"><img src=\"https://colab.research.google.com/assets/colab-badge.svg\" alt=\"Open In Colab\"/></a>"
      ]
    },
    {
      "cell_type": "markdown",
      "source": [
        "## Extract embedding form inpot text using ModernBERT"
      ],
      "metadata": {
        "id": "yUXTO1ky7om9"
      }
    },
    {
      "cell_type": "code",
      "source": [
        "# import required libraries\n",
        "import os\n",
        "import numpy as np\n",
        "import pandas as pd\n",
        "from transformers import AutoTokenizer, AutoModel\n",
        "import torch\n",
        "import spacy\n",
        "from keybert import KeyBERT\n",
        "import re"
      ],
      "metadata": {
        "id": "cZKSkc1hkz7d"
      },
      "execution_count": 148,
      "outputs": []
    },
    {
      "cell_type": "markdown",
      "source": [
        "### Load NLP and ModernBert models"
      ],
      "metadata": {
        "id": "sW3Mnnjp71Gh"
      }
    },
    {
      "cell_type": "code",
      "source": [
        "# Load NLP model for noun phrase extraction\n",
        "nlp = spacy.load(\"en_core_web_sm\")\n",
        "\n",
        "# Load ModernBERT tokenizer and model from Hugging Face\n",
        "MODEL_NAME = \"answerdotai/ModernBERT-base\"\n",
        "tokenizer = AutoTokenizer.from_pretrained(MODEL_NAME)\n",
        "model = AutoModel.from_pretrained(MODEL_NAME)"
      ],
      "metadata": {
        "id": "96X-_jMhkVud"
      },
      "execution_count": 149,
      "outputs": []
    },
    {
      "cell_type": "markdown",
      "source": [
        "### Corpus (text) cleaning"
      ],
      "metadata": {
        "id": "BfSJZDwd77Qx"
      }
    },
    {
      "cell_type": "code",
      "source": [
        "# Function to clean text\n",
        "def clean_text_for_topics(text):\n",
        "    # Remove content in parentheses (e.g., (2015), (note))\n",
        "    text = re.sub(r'\\([^)]*\\)', '', text)\n",
        "\n",
        "    # Remove percentages, currency, units like \"mg\", \"billion\", \"years\", etc.\n",
        "    text = re.sub(r'\\b\\d+(\\.\\d+)?\\s*(%|percent|million|billion|thousand|mg|kg|g|km|cm|years?|months?|days?)\\b', '', text, flags=re.IGNORECASE)\n",
        "\n",
        "    # Remove standalone numbers (integers, decimals, years)\n",
        "    text = re.sub(r'\\b\\d+(\\.\\d+)?\\b', '', text)\n",
        "\n",
        "    # Remove numeric ranges (e.g., 2020–2023 or 10-15)\n",
        "    text = re.sub(r'\\b\\d{2,4}\\s*[-–—]\\s*\\d{2,4}\\b', '', text)\n",
        "\n",
        "    # Remove metadata indicators like \"Deaths:\", \"Rate:\", \"Total:\"\n",
        "    text = re.sub(r'\\b(Deaths?|Rate|Cases?|Total|Incidence|Prevalence|Statistics):?.*', '', text, flags=re.IGNORECASE)\n",
        "\n",
        "    # Remove slashes and colons separating stats or metadata\n",
        "    text = re.sub(r'[:/]', ' ', text)\n",
        "\n",
        "    # Remove all punctuation except commas\n",
        "    text = re.sub(r'[^\\w\\s,]', '', text)\n",
        "\n",
        "    # Collapse extra spaces\n",
        "    text = re.sub(r'\\s{2,}', ' ', text)\n",
        "\n",
        "    return text.strip()"
      ],
      "metadata": {
        "id": "nLpMNhV9z042"
      },
      "execution_count": 150,
      "outputs": []
    },
    {
      "cell_type": "markdown",
      "source": [
        "### Extract emmbedings based on full text and each token separatly."
      ],
      "metadata": {
        "id": "9YZitYhr8Bmg"
      }
    },
    {
      "cell_type": "code",
      "source": [
        "# Function to gest text and return the embedding\n",
        "def get_text_embedding(text):\n",
        "    # Tokenize input text\n",
        "    inputs = tokenizer(text, return_tensors=\"pt\", truncation=True, padding=True)\n",
        "\n",
        "    # Forward pass to get hidden states\n",
        "    with torch.no_grad():\n",
        "        outputs = model(**inputs)\n",
        "\n",
        "    # Get the embeddings (use CLS token for sentence-level embedding)\n",
        "    cls_embedding = outputs.last_hidden_state[:, 0, :]  # shape: [batch_size, hidden_size]\n",
        "\n",
        "    return cls_embedding.squeeze().numpy()"
      ],
      "metadata": {
        "id": "mbvLYg9klJuc"
      },
      "execution_count": 151,
      "outputs": []
    },
    {
      "cell_type": "code",
      "source": [
        "# Function to get per-token embeddings\n",
        "def get_token_embeddings(text):\n",
        "\n",
        "    # Call text cleaning function\n",
        "    text = clean_text_for_topics(text)\n",
        "\n",
        "    # Tokenize with return_tensors and also get token strings\n",
        "    inputs = tokenizer(text, return_tensors=\"pt\", truncation=True, padding=True, return_attention_mask=True)\n",
        "    tokens = tokenizer.convert_ids_to_tokens(inputs['input_ids'][0])\n",
        "\n",
        "    # Forward pass\n",
        "    with torch.no_grad():\n",
        "        outputs = model(**inputs)\n",
        "\n",
        "    embeddings = outputs.last_hidden_state.squeeze(0)  # shape: [seq_len, hidden_size]\n",
        "\n",
        "    # Prepare cleaned token list and their embeddings\n",
        "    token_embeddings = []\n",
        "    for token, emb in zip(tokens, embeddings):\n",
        "        # Skip special tokens and punctuation/whitespace\n",
        "        if token in tokenizer.all_special_tokens:\n",
        "            continue\n",
        "        token = token.lstrip(\"Ġ▁\")  # Remove leading space markers from BPE/SentencePiece\n",
        "        if not token.isalnum():  # Skip non-alphanumeric tokens\n",
        "            continue\n",
        "        token_embeddings.append((token, emb.numpy()))\n",
        "\n",
        "    return token_embeddings"
      ],
      "metadata": {
        "id": "QLwE6v7q80Uh"
      },
      "execution_count": 152,
      "outputs": []
    },
    {
      "cell_type": "markdown",
      "source": [
        "### Topic extraction: First approch"
      ],
      "metadata": {
        "id": "KeiVd5Re8Ps5"
      }
    },
    {
      "cell_type": "code",
      "source": [
        "# ### --- ### Basic method for topic sxtraction ### --- ###\n",
        "\n",
        "# # Extract topics (noun phrase) from sentence\n",
        "# def extract_topics(text):\n",
        "#     doc = nlp(text)\n",
        "#     topics = []\n",
        "\n",
        "#     for chunk in doc.noun_chunks:\n",
        "#         # Remove articles/determiners (like \"the\", \"an\", \"a\")\n",
        "#         words = [token.text for token in chunk if token.pos_ != \"DET\"]\n",
        "#         if words:\n",
        "#             cleaned_phrase = \" \".join(words).strip()\n",
        "#             topics.append(cleaned_phrase)\n",
        "\n",
        "#     # Remove duplicates while preserving order\n",
        "#     seen = set()\n",
        "#     unique_topics = []\n",
        "#     for topic in topics:\n",
        "#         if topic.lower() not in seen:\n",
        "#             unique_topics.append(topic)\n",
        "#             seen.add(topic.lower())\n",
        "\n",
        "#     return unique_topics"
      ],
      "metadata": {
        "id": "DIxCEz-kL5e_"
      },
      "execution_count": 153,
      "outputs": []
    },
    {
      "cell_type": "code",
      "source": [
        "# ### --- ### Second method for topic sxtraction ### --- ###\n",
        "\n",
        "# # Extract topics (noun phrase) from sentence\n",
        "# def extract_topics(text):\n",
        "#     doc = nlp(text)\n",
        "#     topics = []\n",
        "\n",
        "#     # 1. Add noun chunks (excluding determiners)\n",
        "#     for chunk in doc.noun_chunks:\n",
        "#         words = [token.text for token in chunk if token.pos_ != \"DET\"]\n",
        "#         if words:\n",
        "#             cleaned = \" \".join(words).strip()\n",
        "#             topics.append(cleaned)\n",
        "\n",
        "#     # 2. Add standalone noun tokens (important for medical terms like \"diabetes\")\n",
        "#     for token in doc:\n",
        "#         if token.pos_ == \"NOUN\" and not token.is_stop:\n",
        "#             topics.append(token.text.strip())\n",
        "\n",
        "#     # 3. Add named entities related to medical types\n",
        "#     for ent in doc.ents:\n",
        "#         if ent.label_ in {\"DISEASE\", \"CONDITION\", \"MEDICAL_CONDITION\", \"HEALTH_CONDITION\", \"SYMPTOM\"}:\n",
        "#             topics.append(ent.text.strip())\n",
        "\n",
        "#     # 4. Clean and deduplicate\n",
        "#     seen = set()\n",
        "#     unique_topics = []\n",
        "#     for topic in topics:\n",
        "#         topic_clean = topic.lower()\n",
        "#         if topic_clean not in seen and topic_clean.isalpha():\n",
        "#             unique_topics.append(topic)\n",
        "#             seen.add(topic_clean)\n",
        "\n",
        "#     return unique_topics"
      ],
      "metadata": {
        "id": "FejKehEIiwkj"
      },
      "execution_count": 154,
      "outputs": []
    },
    {
      "cell_type": "code",
      "source": [
        "### --- ### Third method for topic sxtraction ### --- ###\n",
        "\n",
        "# Extract topics (noun phrase) from sentence\n",
        "def extract_topics(text):\n",
        "    doc = nlp(text)\n",
        "    topics = []\n",
        "\n",
        "    for chunk in doc.noun_chunks:\n",
        "        # Keep only noun-based chunks\n",
        "        if all(token.pos_ in [\"NOUN\", \"PROPN\", \"ADJ\"] for token in chunk if not token.is_stop):\n",
        "            topic = \" \".join(token.text for token in chunk if token.pos_ != \"DET\").strip()\n",
        "            topics.append(topic)\n",
        "\n",
        "    # Fallback: add standalone nouns that weren't in noun_chunks\n",
        "    for token in doc:\n",
        "        if token.pos_ in [\"NOUN\", \"PROPN\"] and not token.is_stop:\n",
        "            if not any(token.text in topic for topic in topics):\n",
        "                topics.append(token.text)\n",
        "\n",
        "    # Remove duplicates\n",
        "    seen = set()\n",
        "    unique_topics = []\n",
        "    for topic in topics:\n",
        "        if topic.lower() not in seen:\n",
        "            unique_topics.append(topic)\n",
        "            seen.add(topic.lower())\n",
        "\n",
        "    return unique_topics"
      ],
      "metadata": {
        "id": "gz22zUHpwnmO"
      },
      "execution_count": 167,
      "outputs": []
    },
    {
      "cell_type": "markdown",
      "source": [
        "## Topic Extraction: Second approch\n",
        "- Extract the representative topic based on the input text."
      ],
      "metadata": {
        "id": "AX_aXtil_9AI"
      }
    },
    {
      "cell_type": "code",
      "source": [
        "from sklearn.metrics.pairwise import cosine_similarity"
      ],
      "metadata": {
        "id": "lvRzxrNfAKmw"
      },
      "execution_count": 156,
      "outputs": []
    },
    {
      "cell_type": "code",
      "source": [
        "# Function to extract representative topic\n",
        "def extract_main_topic(text):\n",
        "    \"\"\"\n",
        "    Extract the most representative topic from the input text using ModernBERT embeddings.\n",
        "    \"\"\"\n",
        "    # Step 1: Extract all topics from text\n",
        "    candidate_topics = extract_topics(text)\n",
        "\n",
        "    if not candidate_topics:\n",
        "        return None, None\n",
        "\n",
        "    # Step 2: Get embedding for full input text\n",
        "    text_embedding = get_text_embedding(text).reshape(1, -1)\n",
        "\n",
        "    # Step 3: Compute embeddings and similarities for each candidate topic\n",
        "    best_topic = None\n",
        "    highest_similarity = -1\n",
        "\n",
        "    for topic in candidate_topics:\n",
        "        topic_embedding = get_text_embedding(topic).reshape(1, -1)\n",
        "        similarity = cosine_similarity(text_embedding, topic_embedding)[0][0]\n",
        "\n",
        "        if similarity > highest_similarity:\n",
        "            highest_similarity = similarity\n",
        "            best_topic = topic\n",
        "\n",
        "    return best_topic, highest_similarity"
      ],
      "metadata": {
        "id": "JpZetaVFAGd3"
      },
      "execution_count": 157,
      "outputs": []
    },
    {
      "cell_type": "markdown",
      "source": [
        "### Run the code"
      ],
      "metadata": {
        "id": "CfAA2PiN8Twh"
      }
    },
    {
      "cell_type": "code",
      "source": [
        "### --- ### Sample text for test ### --- ###\n",
        "\n",
        "# 1- This is an application about Breast Cancer.\n",
        "# 2- Treating high blood pressure, high blood lipids, diabetes\n",
        "# 3- Heart failure, heart attack, stroke, aneurysm, peripheral artery disease, sudden cardiac arrest. Deaths: 17.9 million / 32% (2015)"
      ],
      "metadata": {
        "id": "QNYU-UXcxlQV"
      },
      "execution_count": 158,
      "outputs": []
    },
    {
      "cell_type": "code",
      "source": [
        "# Example usage (Sentence: This is an application about Breast Cancer.)\n",
        "if __name__ == \"__main__\":\n",
        "    user_text = input(\"Enter your text: \")\n",
        "\n",
        "    # Get sentence embedding\n",
        "    embedding = get_text_embedding(user_text)\n",
        "    print(\"\\nSentence Embedding vector shape:\", embedding.shape)\n",
        "    print(\"Sentence Embedding (first 10 values):\", embedding[:10])\n",
        "\n",
        "    print(\"\\n\", \"####\"*10)\n",
        "\n",
        "    # Get per-token embeddings\n",
        "    token_embeddings = get_token_embeddings(user_text)\n",
        "    print(\"\\nToken-wise Embeddings:\")\n",
        "    for token, emb in token_embeddings:\n",
        "        print(f\"Token: {token:15} | Embedding (first 5 vals): {emb[:5]}\")\n",
        "\n",
        "    print(\"\\n\", \"####\"*10)\n",
        "\n",
        "    # Extract topic and embedding\n",
        "    topics = extract_topics(user_text)\n",
        "    if topics:\n",
        "        print(f\"\\nIdentified topics: {topics}\")\n",
        "        for topic in topics:\n",
        "            topic_embedding = get_text_embedding(topic)\n",
        "            print(f\"\\nTopic: '{topic}'\")\n",
        "            print(\"Embedding shape:\", topic_embedding.shape)\n",
        "            print(\"Embedding (first 5 values):\", topic_embedding[:5])\n",
        "    else:\n",
        "        print(\"No topics found.\")\n",
        "\n",
        "    print(\"\\n\", \"####\"*10)\n",
        "\n",
        "    # Extract main topic\n",
        "    Representative_topic, similarity = extract_main_topic(user_text)\n",
        "    if Representative_topic:\n",
        "        print(f\"\\nRepresentative Topic: '{Representative_topic}' (similarity: {similarity:.4f})\")\n",
        "\n",
        "        # Get sentence embedding\n",
        "        RepTopic_embedding = get_text_embedding(Representative_topic)\n",
        "        print(\"\\nSentence Embedding vector shape:\", RepTopic_embedding.shape)\n",
        "        print(\"Sentence Embedding (first 10 values):\", RepTopic_embedding[:10])\n",
        "    else:\n",
        "        print(\"No main topic found.\")"
      ],
      "metadata": {
        "colab": {
          "base_uri": "https://localhost:8080/"
        },
        "id": "weFFk2QDlHh0",
        "outputId": "ba189a85-a30f-4b48-818d-5b0684a0890c"
      },
      "execution_count": 168,
      "outputs": [
        {
          "output_type": "stream",
          "name": "stdout",
          "text": [
            "Enter your text: Treating high blood pressure, high blood lipids, diabetes\n",
            "\n",
            "Sentence Embedding vector shape: (768,)\n",
            "Sentence Embedding (first 10 values): [ 0.61824924 -0.8772618  -0.5892913  -0.39293256 -0.40930697 -1.2115349\n",
            " -0.7185468  -0.7133831   0.21083187  0.09599578]\n",
            "\n",
            " ########################################\n",
            "\n",
            "Token-wise Embeddings:\n",
            "Token: Treat           | Embedding (first 5 vals): [ 0.9467758   1.2119542  -0.23582344 -0.5950162   0.33312133]\n",
            "Token: ing             | Embedding (first 5 vals): [ 0.59998375 -1.4635118   0.32214066  0.09960657 -0.45235726]\n",
            "Token: high            | Embedding (first 5 vals): [ 2.6954665  -1.2434752   0.12626636  0.15695512  0.11443037]\n",
            "Token: blood           | Embedding (first 5 vals): [ 1.5126576   0.03209869 -0.67796236  0.6731691   1.5587966 ]\n",
            "Token: pressure        | Embedding (first 5 vals): [ 1.0892013  -0.97130156  0.12262349 -0.36548704  1.9817683 ]\n",
            "Token: high            | Embedding (first 5 vals): [ 0.5454219  -0.3474806   0.7775063   1.276289    0.32045242]\n",
            "Token: blood           | Embedding (first 5 vals): [ 1.4536331   0.19799107 -0.9636742   0.9891726   1.1338264 ]\n",
            "Token: lipids          | Embedding (first 5 vals): [ 1.5992571  -0.7876405  -0.70468074 -1.465501    1.1523542 ]\n",
            "Token: diabetes        | Embedding (first 5 vals): [ 0.42372352  0.796814   -1.3965098   0.73752457  1.4614245 ]\n",
            "\n",
            " ########################################\n",
            "\n",
            "Identified topics: ['high blood pressure', 'high blood lipids']\n",
            "\n",
            "Topic: 'high blood pressure'\n",
            "Embedding shape: (768,)\n",
            "Embedding (first 5 values): [ 0.7730723  -1.0774038  -0.7824637  -0.7949578  -0.40506938]\n",
            "\n",
            "Topic: 'high blood lipids'\n",
            "Embedding shape: (768,)\n",
            "Embedding (first 5 values): [ 1.1033709  -0.59751236 -0.7381145  -0.13589725 -0.4228503 ]\n",
            "\n",
            " ########################################\n",
            "\n",
            "Representative Topic: 'high blood lipids' (similarity: 0.9497)\n",
            "\n",
            "Sentence Embedding vector shape: (768,)\n",
            "Sentence Embedding (first 10 values): [ 1.1033709  -0.59751236 -0.7381145  -0.13589725 -0.4228503  -1.0899751\n",
            " -0.77365184 -0.25407377  0.8824803  -0.30564338]\n"
          ]
        }
      ]
    }
  ]
}