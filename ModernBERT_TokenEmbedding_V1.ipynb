{
  "nbformat": 4,
  "nbformat_minor": 0,
  "metadata": {
    "colab": {
      "provenance": [],
      "authorship_tag": "ABX9TyP9+TtdlO7V56f72n1f38SX",
      "include_colab_link": true
    },
    "kernelspec": {
      "name": "python3",
      "display_name": "Python 3"
    },
    "language_info": {
      "name": "python"
    }
  },
  "cells": [
    {
      "cell_type": "markdown",
      "metadata": {
        "id": "view-in-github",
        "colab_type": "text"
      },
      "source": [
        "<a href=\"https://colab.research.google.com/github/raz0208/ModernBERT/blob/main/ModernBERT_TokenEmbedding_V1.ipynb\" target=\"_parent\"><img src=\"https://colab.research.google.com/assets/colab-badge.svg\" alt=\"Open In Colab\"/></a>"
      ]
    },
    {
      "cell_type": "markdown",
      "source": [
        "## Extract embedding form inpot text using ModernBERT Version 1"
      ],
      "metadata": {
        "id": "wBPYTlRkw_zf"
      }
    },
    {
      "cell_type": "code",
      "source": [
        "# Install Neo4j\n",
        "!pip install neo4j"
      ],
      "metadata": {
        "colab": {
          "base_uri": "https://localhost:8080/"
        },
        "id": "YFfSLdKp_TZy",
        "outputId": "59398db3-36a7-4211-ad7c-fcc6a7d4a122"
      },
      "execution_count": 2,
      "outputs": [
        {
          "output_type": "stream",
          "name": "stdout",
          "text": [
            "Collecting neo4j\n",
            "  Downloading neo4j-5.28.1-py3-none-any.whl.metadata (5.9 kB)\n",
            "Requirement already satisfied: pytz in /usr/local/lib/python3.11/dist-packages (from neo4j) (2025.2)\n",
            "Downloading neo4j-5.28.1-py3-none-any.whl (312 kB)\n",
            "\u001b[?25l   \u001b[90m━━━━━━━━━━━━━━━━━━━━━━━━━━━━━━━━━━━━━━━━\u001b[0m \u001b[32m0.0/312.3 kB\u001b[0m \u001b[31m?\u001b[0m eta \u001b[36m-:--:--\u001b[0m\r\u001b[2K   \u001b[91m━━━━━━━━━━━\u001b[0m\u001b[91m╸\u001b[0m\u001b[90m━━━━━━━━━━━━━━━━━━━━━━━━━━━━\u001b[0m \u001b[32m92.2/312.3 kB\u001b[0m \u001b[31m2.5 MB/s\u001b[0m eta \u001b[36m0:00:01\u001b[0m\r\u001b[2K   \u001b[90m━━━━━━━━━━━━━━━━━━━━━━━━━━━━━━━━━━━━━━━━\u001b[0m \u001b[32m312.3/312.3 kB\u001b[0m \u001b[31m4.8 MB/s\u001b[0m eta \u001b[36m0:00:00\u001b[0m\n",
            "\u001b[?25hInstalling collected packages: neo4j\n",
            "Successfully installed neo4j-5.28.1\n"
          ]
        }
      ]
    },
    {
      "cell_type": "code",
      "source": [
        "# import required libraries\n",
        "import os\n",
        "import numpy as np\n",
        "import pandas as pd\n",
        "import torch\n",
        "from transformers import AutoTokenizer, AutoModel\n",
        "from neo4j import GraphDatabase"
      ],
      "metadata": {
        "id": "9-ZP6xJPxKE0"
      },
      "execution_count": 3,
      "outputs": []
    },
    {
      "cell_type": "markdown",
      "source": [
        "### Load NLP and ModernBert models"
      ],
      "metadata": {
        "id": "m9D7ByFGxVTH"
      }
    },
    {
      "cell_type": "code",
      "source": [
        "# Load ModernBERT tokenizer and model from Hugging Face\n",
        "MODEL_NAME = \"answerdotai/ModernBERT-base\"\n",
        "tokenizer = AutoTokenizer.from_pretrained(MODEL_NAME)\n",
        "model = AutoModel.from_pretrained(MODEL_NAME)"
      ],
      "metadata": {
        "id": "60H3zDHCxRuW"
      },
      "execution_count": null,
      "outputs": []
    },
    {
      "cell_type": "markdown",
      "source": [
        "### Extract emmbedings based on full text"
      ],
      "metadata": {
        "id": "A3rfDOmqxzXz"
      }
    },
    {
      "cell_type": "code",
      "source": [
        "# Function to get inpout text and return full text embedding (Edit code to get embedding sentence by sentence)\n",
        "def get_text_embedding(text):\n",
        "    # Tokenize input text\n",
        "    inputs = tokenizer(text, return_tensors=\"pt\", truncation=True, padding=True)\n",
        "\n",
        "    # Forward pass to get hidden states\n",
        "    with torch.no_grad():\n",
        "        outputs = model(**inputs)\n",
        "\n",
        "    # Get the embeddings (use CLS token for sentence-level embedding)\n",
        "    cls_embedding = outputs.last_hidden_state[:, 0, :]  # shape: [batch_size, hidden_size]\n",
        "\n",
        "    return cls_embedding.squeeze().numpy()"
      ],
      "metadata": {
        "id": "V0vUQ6Zfxy7-"
      },
      "execution_count": 5,
      "outputs": []
    },
    {
      "cell_type": "markdown",
      "source": [
        "## Use Neo4j to connect the graph database"
      ],
      "metadata": {
        "id": "rWP63a-k_FtF"
      }
    },
    {
      "cell_type": "code",
      "source": [
        "# Define Neo4j connection credentials\n",
        "NEO4J_URI = \"neo4j://143.225.233.156:7687\"\n",
        "NEO4J_USER = \"rezaazari\"\n",
        "NEO4J_PASSWORD = \"rAzari987\"\n",
        "\n",
        "# Initialize the driver\n",
        "driver = GraphDatabase.driver(NEO4J_URI, auth=(NEO4J_USER, NEO4J_PASSWORD))\n",
        "\n",
        "# Function to test connection\n",
        "def test_connection():\n",
        "    with driver.session() as session:\n",
        "        greeting = session.run(\"RETURN 'Connected to Neo4j' AS message\").single()[\"message\"]\n",
        "        print(greeting)\n",
        "\n",
        "if __name__ == \"__main__\":\n",
        "    test_connection()"
      ],
      "metadata": {
        "colab": {
          "base_uri": "https://localhost:8080/"
        },
        "id": "zboDdVNq_pcC",
        "outputId": "c246ccf8-654c-4344-ab08-7884b3a16524"
      },
      "execution_count": 8,
      "outputs": [
        {
          "output_type": "stream",
          "name": "stdout",
          "text": [
            "Connected to Neo4j\n"
          ]
        }
      ]
    },
    {
      "cell_type": "code",
      "source": [
        "# Function to run Cypher query\n",
        "def run_query(cypher_query, parameters=None):\n",
        "    with driver.session() as session:\n",
        "        result = session.run(cypher_query, parameters or {})\n",
        "        return [record.data() for record in result]\n",
        "\n",
        "# Query of showing example nodes\n",
        "query = \"MATCH (n) RETURN n LIMIT 5\"\n",
        "results = run_query(query)\n",
        "for r in results:\n",
        "    print(r)"
      ],
      "metadata": {
        "colab": {
          "base_uri": "https://localhost:8080/"
        },
        "id": "ixfGJVXNA8vu",
        "outputId": "a39996b4-455c-458d-95cf-587fe612caf4"
      },
      "execution_count": 9,
      "outputs": [
        {
          "output_type": "stream",
          "name": "stdout",
          "text": [
            "{'n': {'date': '1-12-1987', 'journal': 'The Journal of Cell Biology', 'hub': 0.0, 'auth': 2.6175247320960168e-12, 'subjects': 'Articles', 'pmc': 'PMC2114721', 'abstract': 'Meiosis I in males of the Dipteran Sciara coprophila results in the nonrandom distribution of maternally and paternally derived chromosome sets to the two division products. Based on an earlier study (Kubai, D.F. 1982. J. Cell Biol. 93:655-669), I suggested that the meiosis I spindle does not play a direct role in the nonrandom sorting of chromosomes but that, instead, haploid sets are already separated in prophase nuclei well before the onset of spindle formation. Here I report more direct evidence that this hypothesis is true; this evidence was gained from ultrastructural reconstruction analyses of the arrangement of chromosomes in germ line nuclei (prophase nuclei in spermatogonia and spermatocytes) of males heterozygous for an X- autosome chromosome translocation. Because of this translocation, the maternal and paternal chromosome sets are distinguishable, so it is possible to demonstrate that (a) the two haploid chromosome sets occupy distinct maternal and paternal nuclear compartments and that (b) nuclei are oriented so that the two haploid chromosome sets have consistent relationships to a well-defined cellular axis. The consequences of such nonrandom aspects of nuclear structure for chromosome behavior on premeiotic and meiotic spindles are discussed.', 'pmid': '3693389', 'title': 'Nonrandom chromosome arrangements in germ line nuclei of Sciara coprophila males: the basis for nonrandom chromosome segregation on the meiosis I spindle', 'authors': '[]'}}\n",
            "{'n': {'date': '1-12-1987', 'journal': 'The Journal of Cell Biology', 'hub': 0.0, 'auth': 2.6175247320960168e-12, 'subjects': 'Articles', 'pmc': 'PMC2114722', 'abstract': 'To determine molecular architecture of the type IV collagen network in situ, the human amniotic basement membrane has been studied en face in stereo relief by high resolution unidirectional metal shadow casting aided by antibody decoration and morphometry. The appearance of the intact basement membrane is that of a thin sheet in which there are regions of branching strands. Salt extraction further exposes these strands to reveal an extensive irregular polygonal network that can be specifically decorated with gold-conjugated anti-type IV collagen antibody. At high magnification one sees that the network, which contains integral (9-11 nm net diameter) globular domains, is formed in great part by lateral association of monomolecular filaments to form branching strands of variable but narrow diameters. Branch points are variably spaced apart by an average of 45 nm with 4.4 globular domains per micron of strand length. Monomolecular filaments (1.7-nm net diameter) often appear to twist around each other along the strand axis; we propose that super helix formation is an inherent characteristic of lateral assembly. A previous study (Yurchenco, P. D., and H. Furthmayr. 1984. Biochemistry. 23:1839) presented evidence that purified murine type IV collagen dimers polymerize to form polygonal arrays of laterally as well as end-domain-associated molecules. The architecture of this polymer is similar to the network seen in the amnion, with lateral binding a major contributor to each. Thus, to a first approximation, isolated type IV collagen can reconstitute in vitro the polymeric molecular architecture it assumes in vivo.', 'pmid': '3693393', 'title': 'Basement membrane structure in situ: evidence for lateral associations in the type IV collagen network', 'authors': '[]'}}\n",
            "{'n': {'date': '1-12-1987', 'journal': 'The Journal of Cell Biology', 'hub': 0.0, 'auth': 2.6175247320960168e-12, 'subjects': 'Articles', 'pmc': 'PMC2114723', 'abstract': 'In the preceding paper (Yamashiro, D. J., and F. R. Maxfield. 1987. J. Cell Biol. 105:2713-2721), we have shown that there is rapid acidification of endosomal compartments to pH 6.3 by 3 min in wild-type Chinese hamster ovary (CHO) cells. In contrast, early acidification of endosomes is markedly reduced in the CHO mutants, DTF 1-5-4 and DTF 1-5- 1. Since these CHO mutants are pleiotropically defective in endocytosis (Robbins, A. R., S. S. Peng, and J. L. Marshall. 1983. J. Cell Biol. 96:1064-1071; Robbins, A. R., C. Oliver, J. L. Bateman, S. S. Krag, C. J. Galloway, and I. Mellman. 1984. J. Cell Biol. 99:1296-1308), our results are consistent with a requirement for proper acidification of early endocytic compartments in many pH-regulated endocytic processes. In this paper, by measuring the pH of morphologically distinct endosomes using fluorescence microscopy and digital image analysis, we have determined in which of the endocytic compartments the defective acidification occurs. We found that the acidification of both the para- Golgi recycling endosomes and lysosomes was normal in the CHO mutants DTG 1-5-4 and DTF 1-5-1. The mean pH of large endosomes containing either fluorescein-labeled alpha 2-macroglobulin or fluorescein- isothiocyanate dextran was only slightly less acidic in the mutant cells than in wild-type cells. However, when we examined the pH of individual large (150-250 nm) endosomes, we found that there was an increased number of endosomes with a pH greater than 6.5 in the CHO mutants when compared with wild-type cells. Heterogeneity in the acidification of large endosomes was also seen in DTF 1-5-1 by a combined null point pH method and digital image analysis technique. In addition, both CHO mutants showed a marked decrease in the acidification of the earliest endosomal compartment, a diffusely fluorescent compartment comprised of small vesicles and tubules. We suggest that the defect in endosome acidification is most pronounced in the early, small vesicular, and tubular endosomes and that this defect partially carries over to the large endosomes that are involved in the sorting and processing of ligands. The proper step-wise acidification of the different endosomes along the endocytic pathway may have an important role in the regulation of endocytic processes.', 'pmid': '2447098', 'title': 'Acidification of morphologically distinct endosomes in mutant and wild- type Chinese hamster ovary cells', 'authors': '[]'}}\n",
            "{'n': {'date': '1-12-1987', 'journal': 'The Journal of Cell Biology', 'hub': 0.0, 'auth': 2.6175247320960168e-12, 'subjects': 'Articles', 'pmc': 'PMC2114724', 'abstract': 'Using immunohistochemical methods, we have investigated the role of transforming growth factor-beta (TGF-beta) in the development of the mouse embryo. For detection of TGF-beta in 11-18-d-old embryos, we have used a polyclonal antibody specific for TGF-beta type 1 and the peroxidase-antiperoxidase technique. Staining of TGF-beta is closely associated with mesenchyme per se or with tissues derived from mesenchyme, such as connective tissue, cartilage, and bone. TGF-beta is conspicuous in tissues derived from neural crest mesenchyme, such as the palate, larynx, facial mesenchyme, nasal sinuses, meninges, and teeth. Staining of all of these tissues is greatest during periods of morphogenesis. In many instances, intense staining is seen in mesenchyme when critical interactions with adjacent epithelium occur, as in the development of hair follicles, teeth, and the submandibular gland. Marked staining is also seen when remodeling of mesenchyme or mesoderm occurs, as during formation of digits from limb buds, formation of the palate, and formation of the heart valves. The presence of TGF-beta is often coupled with pronounced angiogenic activity. The histochemical results are discussed in terms of the known biochemical actions of TGF-beta, especially its ability to control both synthesis and degradation of both structural and adhesion molecules of the extracellular matrix.', 'pmid': '3320058', 'title': 'Role of transforming growth factor-beta in the development of the mouse embryo', 'authors': '[]'}}\n",
            "{'n': {'date': '1-12-1987', 'journal': 'The Journal of Cell Biology', 'hub': 0.0, 'auth': 2.6175247320960168e-12, 'subjects': 'Articles', 'pmc': 'PMC2114725', 'abstract': 'When macrophages and neutrophils are allowed to settle onto an appropriate surface, they attach and spread in a frustrated attempt to phagocytose the substrate. Spreading is associated with extensive rearrangements of the actin cytoskeleton which resemble those occurring during phagocytosis. We have previously shown that spreading in human neutrophils is preceded by an increase in cytosolic-free calcium concentration [( Ca2+]i) (Kruskal, B. A., S. Shak, and F. R. Maxfield. 1986. Proc. Natl. Acad. Sci. USA. 83:2919-2923). To assess the generality of this signal, we measured [Ca2+]i in single thioglycollate- elicited mouse peritoneal macrophages as they spread on an immune complex-coated surface, using fura-2 microspectrofluorometry. A [Ca2+]i increase always precedes spreading. This increase can involve several (up to 8) [Ca2+]i spikes, with an average peak value of 387 +/- 227 nM (mean +/- SD, n = 92 peaks in 24 cells), before spreading is detected. Neither spreading nor the magnitude of these spikes is significantly altered by removal of extracellular calcium. Many of the spreading macrophages exhibit periodic [Ca2+]i increases before and during spreading. The proportion which does so varies among experiments from 0 to 90%, but it is frequently greater than 40%. The largest number of cells (approximately 25%) exhibited only a single peak. In 13 cells that showed more than 10 peaks, the median period was 29 s (range 19-69 s). The average peak [Ca2+]i was 385 +/- 266 nM (mean +/- SD, n = 208 peaks in 14 cells). The calcium producing these increases is derived from intracellular pools. The oscillations occur with spreading on either opsonized or nonopsonized surfaces. The function of these oscillations is not clear, but the large number of cells which exhibit them suggest that they may be important to macrophage function.', 'pmid': '3693396', 'title': 'Cytosolic free calcium increases before and oscillates during frustrated phagocytosis in macrophages', 'authors': '[]'}}\n"
          ]
        }
      ]
    },
    {
      "cell_type": "code",
      "source": [
        "# # Function to find similar nodes using cosine similarity ( Edit the code to use indexes to be faster and used single query to gest similar nodes)\n",
        "# def find_similar_nodes(text_embedding, top_n):\n",
        "#      embedding_list = text_embedding.tolist()\n",
        "#      cypher_query = \"\"\"\n",
        "#      MATCH (n)-[:HAS_EMBEDDING]->(e:ABSTRACT)\n",
        "#      WHERE e.embedding IS NOT NULL\n",
        "#      WITH n, labels(n) AS labels, gds.similarity.cosine($sent_embedding, e.embedding) AS similarity\n",
        "#      RETURN n, labels, similarity\n",
        "#      ORDER BY similarity DESC\n",
        "#      LIMIT $limit\n",
        "#      \"\"\"\n",
        "#      parameters = {\"sent_embedding\": embedding_list, \"limit\": top_n}\n",
        "#      results = run_query(cypher_query, parameters)\n",
        "#      return results"
      ],
      "metadata": {
        "id": "ULkrQwQp0yZ0"
      },
      "execution_count": null,
      "outputs": []
    },
    {
      "cell_type": "code",
      "source": [
        "# Function to find similar nodes using cosine similarity ( Edit the code to use indexes to be faster and used single query to gest similar nodes)\n",
        "def find_similar_nodes(text_embedding, top_n):\n",
        "     embedding_list = text_embedding.tolist()\n",
        "     cypher_query = \"\"\"\n",
        "     CALL {\n",
        "      WITH 768 AS dims\n",
        "      CALL {\n",
        "        SHOW INDEXES YIELD name\n",
        "        WHERE name = 'abstractIndex'\n",
        "        RETURN count(*) AS exists\n",
        "      }\n",
        "      CALL apoc.do.when(\n",
        "        exists = 0,\n",
        "        'CREATE VECTOR INDEX abstractIndex FOR (e:ABSTRACT) ON (e.embedding) OPTIONS {dimensions: $dims, similarityFunction: \"cosine\"} RETURN true AS created',\n",
        "        'RETURN false AS created',\n",
        "        {dims: dims}\n",
        "      ) YIELD value\n",
        "      RETURN value\n",
        "    }\n",
        "    CALL db.index.vector.queryNodes('abstractIndex', $limit, $sent_embedding)\n",
        "    YIELD node, score\n",
        "    RETURN node AS n, labels(node) AS labels, score AS similarity\n",
        "    ORDER BY similarity DESC\n",
        "    \"\"\"\n",
        "     parameters = {\"sent_embedding\": embedding_list, \"limit\": top_n}\n",
        "     results = run_query(cypher_query, parameters)\n",
        "     return results"
      ],
      "metadata": {
        "id": "Z6cK0REqRxMd"
      },
      "execution_count": 14,
      "outputs": []
    },
    {
      "cell_type": "markdown",
      "source": [
        "### Exacute the app and get output"
      ],
      "metadata": {
        "id": "rwtc54A5zDAX"
      }
    },
    {
      "cell_type": "code",
      "source": [
        "### --- ### Sample text for test ### --- ###\n",
        "\n",
        "# 1- This is an application about Breast Cancer.\n",
        "# 2- Treating high blood pressure, high blood lipids, diabetes.\n",
        "# 3- Heart failure, heart attack, stroke, aneurysm, peripheral artery disease, sudden cardiac arrest. Deaths: 17.9 million / 32% (2015)\n",
        "# 4- Heart failure and stroke are common causes of death."
      ],
      "metadata": {
        "id": "JtJfbcuIyHW2"
      },
      "execution_count": 15,
      "outputs": []
    },
    {
      "cell_type": "code",
      "source": [
        "# Example usage (Sentence: This is an application about Breast Cancer.)\n",
        "if __name__ == \"__main__\":\n",
        "    user_text = input(\"Enter your text: \")\n",
        "\n",
        "    # Get sentence embedding\n",
        "    full_text_embedding = get_text_embedding(user_text)\n",
        "    print(\"\\nSentence Embedding vector shape:\", full_text_embedding.shape)\n",
        "    print(\"Sentence Embedding (first 10 values):\", full_text_embedding[:10])\n",
        "\n",
        "    # Call function to run similarity query\n",
        "    similar_nodes = find_similar_nodes(full_text_embedding, top_n=5)\n",
        "\n",
        "    # Show the result\n",
        "    print(f\"\\nTop {len(similar_nodes)} similar nodes:\")\n",
        "    for node_data in similar_nodes:\n",
        "      print(f\"Node: {node_data['n']}, Similarity: {node_data['similarity']:.4f}\")"
      ],
      "metadata": {
        "colab": {
          "base_uri": "https://localhost:8080/",
          "height": 495
        },
        "id": "FDLS5aPhxtUW",
        "outputId": "b9a4ea5f-a461-440d-f047-3f311543931d"
      },
      "execution_count": 16,
      "outputs": [
        {
          "output_type": "stream",
          "name": "stdout",
          "text": [
            "Enter your text: Heart failure and stroke are common causes of death\n",
            "\n",
            "Sentence Embedding vector shape: (768,)\n",
            "Sentence Embedding (first 10 values): [ 0.49436253 -0.97643137 -0.9285801  -0.32306957 -0.5409149  -0.69720125\n",
            " -1.0940778  -0.85243404  0.432393   -0.62912285]\n"
          ]
        },
        {
          "output_type": "error",
          "ename": "CypherSyntaxError",
          "evalue": "{code: Neo.ClientError.Statement.SyntaxError} {message: Invalid input 'SHOW': expected 'FOREACH', 'ORDER BY', 'CALL', 'CREATE', 'LOAD CSV', 'DELETE', 'DETACH', 'FINISH', 'INSERT', 'LIMIT', 'MATCH', 'MERGE', 'NODETACH', 'OFFSET', 'OPTIONAL', 'REMOVE', 'RETURN', 'SET', 'SKIP', 'UNWIND', 'USE' or 'WITH' (line 5, column 9 (offset: 57))\n\"        SHOW INDEXES YIELD name\"\n         ^}",
          "traceback": [
            "\u001b[0;31m---------------------------------------------------------------------------\u001b[0m",
            "\u001b[0;31mCypherSyntaxError\u001b[0m                         Traceback (most recent call last)",
            "\u001b[0;32m<ipython-input-16-b06a40999c48>\u001b[0m in \u001b[0;36m<cell line: 0>\u001b[0;34m()\u001b[0m\n\u001b[1;32m      9\u001b[0m \u001b[0;34m\u001b[0m\u001b[0m\n\u001b[1;32m     10\u001b[0m     \u001b[0;31m# Call function to run similarity query\u001b[0m\u001b[0;34m\u001b[0m\u001b[0;34m\u001b[0m\u001b[0m\n\u001b[0;32m---> 11\u001b[0;31m     \u001b[0msimilar_nodes\u001b[0m \u001b[0;34m=\u001b[0m \u001b[0mfind_similar_nodes\u001b[0m\u001b[0;34m(\u001b[0m\u001b[0mfull_text_embedding\u001b[0m\u001b[0;34m,\u001b[0m \u001b[0mtop_n\u001b[0m\u001b[0;34m=\u001b[0m\u001b[0;36m5\u001b[0m\u001b[0;34m)\u001b[0m\u001b[0;34m\u001b[0m\u001b[0;34m\u001b[0m\u001b[0m\n\u001b[0m\u001b[1;32m     12\u001b[0m \u001b[0;34m\u001b[0m\u001b[0m\n\u001b[1;32m     13\u001b[0m     \u001b[0;31m# Show the result\u001b[0m\u001b[0;34m\u001b[0m\u001b[0;34m\u001b[0m\u001b[0m\n",
            "\u001b[0;32m<ipython-input-14-3c3aa9971be1>\u001b[0m in \u001b[0;36mfind_similar_nodes\u001b[0;34m(text_embedding, top_n)\u001b[0m\n\u001b[1;32m     24\u001b[0m     \"\"\"\n\u001b[1;32m     25\u001b[0m      \u001b[0mparameters\u001b[0m \u001b[0;34m=\u001b[0m \u001b[0;34m{\u001b[0m\u001b[0;34m\"sent_embedding\"\u001b[0m\u001b[0;34m:\u001b[0m \u001b[0membedding_list\u001b[0m\u001b[0;34m,\u001b[0m \u001b[0;34m\"limit\"\u001b[0m\u001b[0;34m:\u001b[0m \u001b[0mtop_n\u001b[0m\u001b[0;34m}\u001b[0m\u001b[0;34m\u001b[0m\u001b[0;34m\u001b[0m\u001b[0m\n\u001b[0;32m---> 26\u001b[0;31m      \u001b[0mresults\u001b[0m \u001b[0;34m=\u001b[0m \u001b[0mrun_query\u001b[0m\u001b[0;34m(\u001b[0m\u001b[0mcypher_query\u001b[0m\u001b[0;34m,\u001b[0m \u001b[0mparameters\u001b[0m\u001b[0;34m)\u001b[0m\u001b[0;34m\u001b[0m\u001b[0;34m\u001b[0m\u001b[0m\n\u001b[0m\u001b[1;32m     27\u001b[0m      \u001b[0;32mreturn\u001b[0m \u001b[0mresults\u001b[0m\u001b[0;34m\u001b[0m\u001b[0;34m\u001b[0m\u001b[0m\n",
            "\u001b[0;32m<ipython-input-9-18fac196a826>\u001b[0m in \u001b[0;36mrun_query\u001b[0;34m(cypher_query, parameters)\u001b[0m\n\u001b[1;32m      2\u001b[0m \u001b[0;32mdef\u001b[0m \u001b[0mrun_query\u001b[0m\u001b[0;34m(\u001b[0m\u001b[0mcypher_query\u001b[0m\u001b[0;34m,\u001b[0m \u001b[0mparameters\u001b[0m\u001b[0;34m=\u001b[0m\u001b[0;32mNone\u001b[0m\u001b[0;34m)\u001b[0m\u001b[0;34m:\u001b[0m\u001b[0;34m\u001b[0m\u001b[0;34m\u001b[0m\u001b[0m\n\u001b[1;32m      3\u001b[0m     \u001b[0;32mwith\u001b[0m \u001b[0mdriver\u001b[0m\u001b[0;34m.\u001b[0m\u001b[0msession\u001b[0m\u001b[0;34m(\u001b[0m\u001b[0;34m)\u001b[0m \u001b[0;32mas\u001b[0m \u001b[0msession\u001b[0m\u001b[0;34m:\u001b[0m\u001b[0;34m\u001b[0m\u001b[0;34m\u001b[0m\u001b[0m\n\u001b[0;32m----> 4\u001b[0;31m         \u001b[0mresult\u001b[0m \u001b[0;34m=\u001b[0m \u001b[0msession\u001b[0m\u001b[0;34m.\u001b[0m\u001b[0mrun\u001b[0m\u001b[0;34m(\u001b[0m\u001b[0mcypher_query\u001b[0m\u001b[0;34m,\u001b[0m \u001b[0mparameters\u001b[0m \u001b[0;32mor\u001b[0m \u001b[0;34m{\u001b[0m\u001b[0;34m}\u001b[0m\u001b[0;34m)\u001b[0m\u001b[0;34m\u001b[0m\u001b[0;34m\u001b[0m\u001b[0m\n\u001b[0m\u001b[1;32m      5\u001b[0m         \u001b[0;32mreturn\u001b[0m \u001b[0;34m[\u001b[0m\u001b[0mrecord\u001b[0m\u001b[0;34m.\u001b[0m\u001b[0mdata\u001b[0m\u001b[0;34m(\u001b[0m\u001b[0;34m)\u001b[0m \u001b[0;32mfor\u001b[0m \u001b[0mrecord\u001b[0m \u001b[0;32min\u001b[0m \u001b[0mresult\u001b[0m\u001b[0;34m]\u001b[0m\u001b[0;34m\u001b[0m\u001b[0;34m\u001b[0m\u001b[0m\n\u001b[1;32m      6\u001b[0m \u001b[0;34m\u001b[0m\u001b[0m\n",
            "\u001b[0;32m/usr/local/lib/python3.11/dist-packages/neo4j/_sync/work/session.py\u001b[0m in \u001b[0;36mrun\u001b[0;34m(self, query, parameters, **kwargs)\u001b[0m\n\u001b[1;32m    326\u001b[0m         \u001b[0mbookmarks\u001b[0m \u001b[0;34m=\u001b[0m \u001b[0mself\u001b[0m\u001b[0;34m.\u001b[0m\u001b[0m_get_bookmarks\u001b[0m\u001b[0;34m(\u001b[0m\u001b[0;34m)\u001b[0m\u001b[0;34m\u001b[0m\u001b[0;34m\u001b[0m\u001b[0m\n\u001b[1;32m    327\u001b[0m         \u001b[0mparameters\u001b[0m \u001b[0;34m=\u001b[0m \u001b[0mdict\u001b[0m\u001b[0;34m(\u001b[0m\u001b[0mparameters\u001b[0m \u001b[0;32mor\u001b[0m \u001b[0;34m{\u001b[0m\u001b[0;34m}\u001b[0m\u001b[0;34m,\u001b[0m \u001b[0;34m**\u001b[0m\u001b[0mkwargs\u001b[0m\u001b[0;34m)\u001b[0m\u001b[0;34m\u001b[0m\u001b[0;34m\u001b[0m\u001b[0m\n\u001b[0;32m--> 328\u001b[0;31m         self._auto_result._run(\n\u001b[0m\u001b[1;32m    329\u001b[0m             \u001b[0mquery\u001b[0m\u001b[0;34m,\u001b[0m\u001b[0;34m\u001b[0m\u001b[0;34m\u001b[0m\u001b[0m\n\u001b[1;32m    330\u001b[0m             \u001b[0mparameters\u001b[0m\u001b[0;34m,\u001b[0m\u001b[0;34m\u001b[0m\u001b[0;34m\u001b[0m\u001b[0m\n",
            "\u001b[0;32m/usr/local/lib/python3.11/dist-packages/neo4j/_sync/work/result.py\u001b[0m in \u001b[0;36m_run\u001b[0;34m(self, query, parameters, db, imp_user, access_mode, bookmarks, notifications_min_severity, notifications_disabled_classifications)\u001b[0m\n\u001b[1;32m    234\u001b[0m         \u001b[0mself\u001b[0m\u001b[0;34m.\u001b[0m\u001b[0m_pull\u001b[0m\u001b[0;34m(\u001b[0m\u001b[0;34m)\u001b[0m\u001b[0;34m\u001b[0m\u001b[0;34m\u001b[0m\u001b[0m\n\u001b[1;32m    235\u001b[0m         \u001b[0mself\u001b[0m\u001b[0;34m.\u001b[0m\u001b[0m_connection\u001b[0m\u001b[0;34m.\u001b[0m\u001b[0msend_all\u001b[0m\u001b[0;34m(\u001b[0m\u001b[0;34m)\u001b[0m\u001b[0;34m\u001b[0m\u001b[0;34m\u001b[0m\u001b[0m\n\u001b[0;32m--> 236\u001b[0;31m         \u001b[0mself\u001b[0m\u001b[0;34m.\u001b[0m\u001b[0m_attach\u001b[0m\u001b[0;34m(\u001b[0m\u001b[0;34m)\u001b[0m\u001b[0;34m\u001b[0m\u001b[0;34m\u001b[0m\u001b[0m\n\u001b[0m\u001b[1;32m    237\u001b[0m \u001b[0;34m\u001b[0m\u001b[0m\n\u001b[1;32m    238\u001b[0m     \u001b[0;32mdef\u001b[0m \u001b[0m_pull\u001b[0m\u001b[0;34m(\u001b[0m\u001b[0mself\u001b[0m\u001b[0;34m)\u001b[0m\u001b[0;34m:\u001b[0m\u001b[0;34m\u001b[0m\u001b[0;34m\u001b[0m\u001b[0m\n",
            "\u001b[0;32m/usr/local/lib/python3.11/dist-packages/neo4j/_sync/work/result.py\u001b[0m in \u001b[0;36m_attach\u001b[0;34m(self)\u001b[0m\n\u001b[1;32m    428\u001b[0m         \u001b[0;32mif\u001b[0m \u001b[0mself\u001b[0m\u001b[0;34m.\u001b[0m\u001b[0m_exhausted\u001b[0m \u001b[0;32mis\u001b[0m \u001b[0;32mFalse\u001b[0m\u001b[0;34m:\u001b[0m\u001b[0;34m\u001b[0m\u001b[0;34m\u001b[0m\u001b[0m\n\u001b[1;32m    429\u001b[0m             \u001b[0;32mwhile\u001b[0m \u001b[0mself\u001b[0m\u001b[0;34m.\u001b[0m\u001b[0m_attached\u001b[0m \u001b[0;32mis\u001b[0m \u001b[0;32mFalse\u001b[0m\u001b[0;34m:\u001b[0m\u001b[0;34m\u001b[0m\u001b[0;34m\u001b[0m\u001b[0m\n\u001b[0;32m--> 430\u001b[0;31m                 \u001b[0mself\u001b[0m\u001b[0;34m.\u001b[0m\u001b[0m_connection\u001b[0m\u001b[0;34m.\u001b[0m\u001b[0mfetch_message\u001b[0m\u001b[0;34m(\u001b[0m\u001b[0;34m)\u001b[0m\u001b[0;34m\u001b[0m\u001b[0;34m\u001b[0m\u001b[0m\n\u001b[0m\u001b[1;32m    431\u001b[0m \u001b[0;34m\u001b[0m\u001b[0m\n\u001b[1;32m    432\u001b[0m     \u001b[0;32mdef\u001b[0m \u001b[0m_buffer\u001b[0m\u001b[0;34m(\u001b[0m\u001b[0mself\u001b[0m\u001b[0;34m,\u001b[0m \u001b[0mn\u001b[0m\u001b[0;34m=\u001b[0m\u001b[0;32mNone\u001b[0m\u001b[0;34m)\u001b[0m\u001b[0;34m:\u001b[0m\u001b[0;34m\u001b[0m\u001b[0;34m\u001b[0m\u001b[0m\n",
            "\u001b[0;32m/usr/local/lib/python3.11/dist-packages/neo4j/_sync/io/_common.py\u001b[0m in \u001b[0;36minner\u001b[0;34m(*args, **kwargs)\u001b[0m\n\u001b[1;32m    182\u001b[0m             \u001b[0;32mdef\u001b[0m \u001b[0minner\u001b[0m\u001b[0;34m(\u001b[0m\u001b[0;34m*\u001b[0m\u001b[0margs\u001b[0m\u001b[0;34m,\u001b[0m \u001b[0;34m**\u001b[0m\u001b[0mkwargs\u001b[0m\u001b[0;34m)\u001b[0m\u001b[0;34m:\u001b[0m\u001b[0;34m\u001b[0m\u001b[0;34m\u001b[0m\u001b[0m\n\u001b[1;32m    183\u001b[0m                 \u001b[0;32mtry\u001b[0m\u001b[0;34m:\u001b[0m\u001b[0;34m\u001b[0m\u001b[0;34m\u001b[0m\u001b[0m\n\u001b[0;32m--> 184\u001b[0;31m                     \u001b[0mfunc\u001b[0m\u001b[0;34m(\u001b[0m\u001b[0;34m*\u001b[0m\u001b[0margs\u001b[0m\u001b[0;34m,\u001b[0m \u001b[0;34m**\u001b[0m\u001b[0mkwargs\u001b[0m\u001b[0;34m)\u001b[0m\u001b[0;34m\u001b[0m\u001b[0;34m\u001b[0m\u001b[0m\n\u001b[0m\u001b[1;32m    185\u001b[0m                 \u001b[0;32mexcept\u001b[0m \u001b[0;34m(\u001b[0m\u001b[0mNeo4jError\u001b[0m\u001b[0;34m,\u001b[0m \u001b[0mServiceUnavailable\u001b[0m\u001b[0;34m,\u001b[0m \u001b[0mSessionExpired\u001b[0m\u001b[0;34m)\u001b[0m \u001b[0;32mas\u001b[0m \u001b[0mexc\u001b[0m\u001b[0;34m:\u001b[0m\u001b[0;34m\u001b[0m\u001b[0;34m\u001b[0m\u001b[0m\n\u001b[1;32m    186\u001b[0m                     \u001b[0;32massert\u001b[0m \u001b[0;32mnot\u001b[0m \u001b[0masyncio\u001b[0m\u001b[0;34m.\u001b[0m\u001b[0miscoroutinefunction\u001b[0m\u001b[0;34m(\u001b[0m\u001b[0mself\u001b[0m\u001b[0;34m.\u001b[0m\u001b[0m__on_error\u001b[0m\u001b[0;34m)\u001b[0m\u001b[0;34m\u001b[0m\u001b[0;34m\u001b[0m\u001b[0m\n",
            "\u001b[0;32m/usr/local/lib/python3.11/dist-packages/neo4j/_sync/io/_bolt.py\u001b[0m in \u001b[0;36mfetch_message\u001b[0;34m(self)\u001b[0m\n\u001b[1;32m    862\u001b[0m             \u001b[0mhydration_hooks\u001b[0m\u001b[0;34m=\u001b[0m\u001b[0mself\u001b[0m\u001b[0;34m.\u001b[0m\u001b[0mresponses\u001b[0m\u001b[0;34m[\u001b[0m\u001b[0;36m0\u001b[0m\u001b[0;34m]\u001b[0m\u001b[0;34m.\u001b[0m\u001b[0mhydration_hooks\u001b[0m\u001b[0;34m\u001b[0m\u001b[0;34m\u001b[0m\u001b[0m\n\u001b[1;32m    863\u001b[0m         )\n\u001b[0;32m--> 864\u001b[0;31m         \u001b[0mres\u001b[0m \u001b[0;34m=\u001b[0m \u001b[0mself\u001b[0m\u001b[0;34m.\u001b[0m\u001b[0m_process_message\u001b[0m\u001b[0;34m(\u001b[0m\u001b[0mtag\u001b[0m\u001b[0;34m,\u001b[0m \u001b[0mfields\u001b[0m\u001b[0;34m)\u001b[0m\u001b[0;34m\u001b[0m\u001b[0;34m\u001b[0m\u001b[0m\n\u001b[0m\u001b[1;32m    865\u001b[0m         \u001b[0mself\u001b[0m\u001b[0;34m.\u001b[0m\u001b[0midle_since\u001b[0m \u001b[0;34m=\u001b[0m \u001b[0mmonotonic\u001b[0m\u001b[0;34m(\u001b[0m\u001b[0;34m)\u001b[0m\u001b[0;34m\u001b[0m\u001b[0;34m\u001b[0m\u001b[0m\n\u001b[1;32m    866\u001b[0m         \u001b[0;32mreturn\u001b[0m \u001b[0mres\u001b[0m\u001b[0;34m\u001b[0m\u001b[0;34m\u001b[0m\u001b[0m\n",
            "\u001b[0;32m/usr/local/lib/python3.11/dist-packages/neo4j/_sync/io/_bolt5.py\u001b[0m in \u001b[0;36m_process_message\u001b[0;34m(self, tag, fields)\u001b[0m\n\u001b[1;32m   1206\u001b[0m             \u001b[0mself\u001b[0m\u001b[0;34m.\u001b[0m\u001b[0m_enrich_error_diagnostic_record\u001b[0m\u001b[0;34m(\u001b[0m\u001b[0msummary_metadata\u001b[0m\u001b[0;34m)\u001b[0m\u001b[0;34m\u001b[0m\u001b[0;34m\u001b[0m\u001b[0m\n\u001b[1;32m   1207\u001b[0m             \u001b[0;32mtry\u001b[0m\u001b[0;34m:\u001b[0m\u001b[0;34m\u001b[0m\u001b[0;34m\u001b[0m\u001b[0m\n\u001b[0;32m-> 1208\u001b[0;31m                 \u001b[0mresponse\u001b[0m\u001b[0;34m.\u001b[0m\u001b[0mon_failure\u001b[0m\u001b[0;34m(\u001b[0m\u001b[0msummary_metadata\u001b[0m \u001b[0;32mor\u001b[0m \u001b[0;34m{\u001b[0m\u001b[0;34m}\u001b[0m\u001b[0;34m)\u001b[0m\u001b[0;34m\u001b[0m\u001b[0;34m\u001b[0m\u001b[0m\n\u001b[0m\u001b[1;32m   1209\u001b[0m             \u001b[0;32mexcept\u001b[0m \u001b[0;34m(\u001b[0m\u001b[0mServiceUnavailable\u001b[0m\u001b[0;34m,\u001b[0m \u001b[0mDatabaseUnavailable\u001b[0m\u001b[0;34m)\u001b[0m\u001b[0;34m:\u001b[0m\u001b[0;34m\u001b[0m\u001b[0;34m\u001b[0m\u001b[0m\n\u001b[1;32m   1210\u001b[0m                 \u001b[0;32mif\u001b[0m \u001b[0mself\u001b[0m\u001b[0;34m.\u001b[0m\u001b[0mpool\u001b[0m\u001b[0;34m:\u001b[0m\u001b[0;34m\u001b[0m\u001b[0;34m\u001b[0m\u001b[0m\n",
            "\u001b[0;32m/usr/local/lib/python3.11/dist-packages/neo4j/_sync/io/_common.py\u001b[0m in \u001b[0;36mon_failure\u001b[0;34m(self, metadata)\u001b[0m\n\u001b[1;32m    252\u001b[0m         \u001b[0mhandler\u001b[0m \u001b[0;34m=\u001b[0m \u001b[0mself\u001b[0m\u001b[0;34m.\u001b[0m\u001b[0mhandlers\u001b[0m\u001b[0;34m.\u001b[0m\u001b[0mget\u001b[0m\u001b[0;34m(\u001b[0m\u001b[0;34m\"on_summary\"\u001b[0m\u001b[0;34m)\u001b[0m\u001b[0;34m\u001b[0m\u001b[0;34m\u001b[0m\u001b[0m\n\u001b[1;32m    253\u001b[0m         \u001b[0mUtil\u001b[0m\u001b[0;34m.\u001b[0m\u001b[0mcallback\u001b[0m\u001b[0;34m(\u001b[0m\u001b[0mhandler\u001b[0m\u001b[0;34m)\u001b[0m\u001b[0;34m\u001b[0m\u001b[0;34m\u001b[0m\u001b[0m\n\u001b[0;32m--> 254\u001b[0;31m         \u001b[0;32mraise\u001b[0m \u001b[0mself\u001b[0m\u001b[0;34m.\u001b[0m\u001b[0m_hydrate_error\u001b[0m\u001b[0;34m(\u001b[0m\u001b[0mmetadata\u001b[0m\u001b[0;34m)\u001b[0m\u001b[0;34m\u001b[0m\u001b[0;34m\u001b[0m\u001b[0m\n\u001b[0m\u001b[1;32m    255\u001b[0m \u001b[0;34m\u001b[0m\u001b[0m\n\u001b[1;32m    256\u001b[0m     \u001b[0;32mdef\u001b[0m \u001b[0mon_ignored\u001b[0m\u001b[0;34m(\u001b[0m\u001b[0mself\u001b[0m\u001b[0;34m,\u001b[0m \u001b[0mmetadata\u001b[0m\u001b[0;34m=\u001b[0m\u001b[0;32mNone\u001b[0m\u001b[0;34m)\u001b[0m\u001b[0;34m:\u001b[0m\u001b[0;34m\u001b[0m\u001b[0;34m\u001b[0m\u001b[0m\n",
            "\u001b[0;31mCypherSyntaxError\u001b[0m: {code: Neo.ClientError.Statement.SyntaxError} {message: Invalid input 'SHOW': expected 'FOREACH', 'ORDER BY', 'CALL', 'CREATE', 'LOAD CSV', 'DELETE', 'DETACH', 'FINISH', 'INSERT', 'LIMIT', 'MATCH', 'MERGE', 'NODETACH', 'OFFSET', 'OPTIONAL', 'REMOVE', 'RETURN', 'SET', 'SKIP', 'UNWIND', 'USE' or 'WITH' (line 5, column 9 (offset: 57))\n\"        SHOW INDEXES YIELD name\"\n         ^}"
          ]
        }
      ]
    },
    {
      "cell_type": "markdown",
      "source": [
        "### Import extracted data to local dataset (Optional)"
      ],
      "metadata": {
        "id": "kUPmA08xdDGs"
      }
    },
    {
      "cell_type": "code",
      "source": [
        "# Define Neo4j connection credentials\n",
        "# --- Connect to Second Database ---\n",
        "SECOND_NEO4J_URI = \"neo4j+s://17c6383a.databases.neo4j.io\"\n",
        "SECOND_NEO4J_USER = \"neo4j\"\n",
        "SECOND_NEO4J_PASSWORD = \"MMJrt6Cc0cp4VQn6QJJphqXFUUytZOpc0ip1tErl-4U\"\n",
        "second_driver = GraphDatabase.driver(SECOND_NEO4J_URI, auth=(SECOND_NEO4J_USER, SECOND_NEO4J_PASSWORD))\n",
        "\n",
        "# Function to test connection\n",
        "def test_connection():\n",
        "    with second_driver.session() as session:\n",
        "        greeting = session.run(\"RETURN 'Connected to Neo4j' AS message\").single()[\"message\"]\n",
        "        print(greeting)\n",
        "\n",
        "if __name__ == \"__main__\":\n",
        "    test_connection()"
      ],
      "metadata": {
        "id": "41KoReXkNgoV"
      },
      "execution_count": null,
      "outputs": []
    },
    {
      "cell_type": "code",
      "source": [
        "# Function to import extracted similar nodes into local graph database by implementing cypher query\n",
        "def import_nodes_to_second_db(nodes_data):\n",
        "    with second_driver.session() as session:\n",
        "        for record in nodes_data:\n",
        "            node_props = record['n']\n",
        "            labels = record['labels']  # From the modified query\n",
        "\n",
        "            # Build Cypher query\n",
        "            label_string = \":\".join(labels)\n",
        "            prop_keys = \", \".join(f\"{k}: ${k}\" for k in node_props.keys())\n",
        "            cypher_query = f\"CREATE (n:{label_string} {{ {prop_keys} }})\"\n",
        "\n",
        "            session.run(cypher_query, node_props)\n",
        "\n",
        "    print(f\"✅ Imported {len(nodes_data)} nodes to the second Neo4j database.\")"
      ],
      "metadata": {
        "id": "kWTHOCsMXHV_"
      },
      "execution_count": null,
      "outputs": []
    },
    {
      "cell_type": "code",
      "source": [
        "# Import to second Neo4j\n",
        "import_nodes_to_second_db(similar_nodes)"
      ],
      "metadata": {
        "id": "naMEk7g2XO08"
      },
      "execution_count": null,
      "outputs": []
    },
    {
      "cell_type": "code",
      "source": [
        "# Function to run Cypher query\n",
        "def run_query(cypher_query, parameters=None):\n",
        "    with second_driver.session() as session:\n",
        "        result = session.run(cypher_query, parameters or {})\n",
        "        return [record.data() for record in result]\n",
        "\n",
        "# Query of showing example nodes\n",
        "query = \"MATCH (n) RETURN n LIMIT 5\"\n",
        "results = run_query(query)\n",
        "for r in results:\n",
        "    print(r)"
      ],
      "metadata": {
        "id": "WNNAhqzhNxNE"
      },
      "execution_count": null,
      "outputs": []
    }
  ]
}