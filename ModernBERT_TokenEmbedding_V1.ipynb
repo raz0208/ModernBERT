{
  "nbformat": 4,
  "nbformat_minor": 0,
  "metadata": {
    "colab": {
      "provenance": [],
      "authorship_tag": "ABX9TyN8VmyRtCiaiAcQVqcp0JTh",
      "include_colab_link": true
    },
    "kernelspec": {
      "name": "python3",
      "display_name": "Python 3"
    },
    "language_info": {
      "name": "python"
    }
  },
  "cells": [
    {
      "cell_type": "markdown",
      "metadata": {
        "id": "view-in-github",
        "colab_type": "text"
      },
      "source": [
        "<a href=\"https://colab.research.google.com/github/raz0208/ModernBERT/blob/main/ModernBERT_TokenEmbedding_V1.ipynb\" target=\"_parent\"><img src=\"https://colab.research.google.com/assets/colab-badge.svg\" alt=\"Open In Colab\"/></a>"
      ]
    },
    {
      "cell_type": "markdown",
      "source": [
        "## Extract embedding form inpot text using ModernBERT Version 1"
      ],
      "metadata": {
        "id": "wBPYTlRkw_zf"
      }
    },
    {
      "cell_type": "code",
      "source": [
        "# Install Neo4j\n",
        "#!pip install neo4j"
      ],
      "metadata": {
        "id": "YFfSLdKp_TZy"
      },
      "execution_count": 2,
      "outputs": []
    },
    {
      "cell_type": "code",
      "source": [
        "# import required libraries\n",
        "import os\n",
        "import numpy as np\n",
        "import pandas as pd\n",
        "import torch\n",
        "from transformers import AutoTokenizer, AutoModel\n",
        "from neo4j import GraphDatabase"
      ],
      "metadata": {
        "id": "9-ZP6xJPxKE0"
      },
      "execution_count": 3,
      "outputs": []
    },
    {
      "cell_type": "markdown",
      "source": [
        "### Load NLP and ModernBert models"
      ],
      "metadata": {
        "id": "m9D7ByFGxVTH"
      }
    },
    {
      "cell_type": "code",
      "source": [
        "# Load ModernBERT tokenizer and model from Hugging Face\n",
        "MODEL_NAME = \"answerdotai/ModernBERT-base\"\n",
        "tokenizer = AutoTokenizer.from_pretrained(MODEL_NAME)\n",
        "model = AutoModel.from_pretrained(MODEL_NAME)"
      ],
      "metadata": {
        "id": "60H3zDHCxRuW"
      },
      "execution_count": null,
      "outputs": []
    },
    {
      "cell_type": "markdown",
      "source": [
        "### Extract emmbedings based on full text"
      ],
      "metadata": {
        "id": "A3rfDOmqxzXz"
      }
    },
    {
      "cell_type": "code",
      "source": [
        "# Function to get inpout text and return full text embedding (Edit code to get embedding sentence by sentence)\n",
        "def get_text_embedding(text):\n",
        "    # Tokenize input text\n",
        "    inputs = tokenizer(text, return_tensors=\"pt\", truncation=True, padding=True)\n",
        "\n",
        "    # Forward pass to get hidden states\n",
        "    with torch.no_grad():\n",
        "        outputs = model(**inputs)\n",
        "\n",
        "    # Get the embeddings (use CLS token for sentence-level embedding)\n",
        "    cls_embedding = outputs.last_hidden_state[:, 0, :]  # shape: [batch_size, hidden_size]\n",
        "\n",
        "    return cls_embedding.squeeze().numpy()"
      ],
      "metadata": {
        "id": "V0vUQ6Zfxy7-"
      },
      "execution_count": 5,
      "outputs": []
    },
    {
      "cell_type": "markdown",
      "source": [
        "## Use Neo4j to connect the graph database"
      ],
      "metadata": {
        "id": "rWP63a-k_FtF"
      }
    },
    {
      "cell_type": "code",
      "source": [
        "# Define Neo4j connection credentials\n",
        "NEO4J_URI = \"neo4j://143.225.233.156:7687\"\n",
        "NEO4J_USER = \"rezaazari\"\n",
        "NEO4J_PASSWORD = \"rAzari987\"\n",
        "\n",
        "# Initialize the driver\n",
        "driver = GraphDatabase.driver(NEO4J_URI, auth=(NEO4J_USER, NEO4J_PASSWORD))\n",
        "\n",
        "# Function to test connection\n",
        "def test_connection():\n",
        "    with driver.session() as session:\n",
        "        greeting = session.run(\"RETURN 'Connected to Neo4j' AS message\").single()[\"message\"]\n",
        "        print(greeting)\n",
        "\n",
        "if __name__ == \"__main__\":\n",
        "    test_connection()"
      ],
      "metadata": {
        "colab": {
          "base_uri": "https://localhost:8080/",
          "height": 339
        },
        "id": "zboDdVNq_pcC",
        "outputId": "9101bfbf-594d-45bd-fff0-032ecce5305c"
      },
      "execution_count": 7,
      "outputs": [
        {
          "output_type": "stream",
          "name": "stderr",
          "text": [
            "ERROR:neo4j.pool:Unable to retrieve routing information\n"
          ]
        },
        {
          "output_type": "error",
          "ename": "ServiceUnavailable",
          "evalue": "Unable to retrieve routing information",
          "traceback": [
            "\u001b[0;31m---------------------------------------------------------------------------\u001b[0m",
            "\u001b[0;31mServiceUnavailable\u001b[0m                        Traceback (most recent call last)",
            "\u001b[0;32m<ipython-input-7-c721897f632b>\u001b[0m in \u001b[0;36m<cell line: 0>\u001b[0;34m()\u001b[0m\n\u001b[1;32m     14\u001b[0m \u001b[0;34m\u001b[0m\u001b[0m\n\u001b[1;32m     15\u001b[0m \u001b[0;32mif\u001b[0m \u001b[0m__name__\u001b[0m \u001b[0;34m==\u001b[0m \u001b[0;34m\"__main__\"\u001b[0m\u001b[0;34m:\u001b[0m\u001b[0;34m\u001b[0m\u001b[0;34m\u001b[0m\u001b[0m\n\u001b[0;32m---> 16\u001b[0;31m     \u001b[0mtest_connection\u001b[0m\u001b[0;34m(\u001b[0m\u001b[0;34m)\u001b[0m\u001b[0;34m\u001b[0m\u001b[0;34m\u001b[0m\u001b[0m\n\u001b[0m",
            "\u001b[0;32m<ipython-input-7-c721897f632b>\u001b[0m in \u001b[0;36mtest_connection\u001b[0;34m()\u001b[0m\n\u001b[1;32m     10\u001b[0m \u001b[0;32mdef\u001b[0m \u001b[0mtest_connection\u001b[0m\u001b[0;34m(\u001b[0m\u001b[0;34m)\u001b[0m\u001b[0;34m:\u001b[0m\u001b[0;34m\u001b[0m\u001b[0;34m\u001b[0m\u001b[0m\n\u001b[1;32m     11\u001b[0m     \u001b[0;32mwith\u001b[0m \u001b[0mdriver\u001b[0m\u001b[0;34m.\u001b[0m\u001b[0msession\u001b[0m\u001b[0;34m(\u001b[0m\u001b[0;34m)\u001b[0m \u001b[0;32mas\u001b[0m \u001b[0msession\u001b[0m\u001b[0;34m:\u001b[0m\u001b[0;34m\u001b[0m\u001b[0;34m\u001b[0m\u001b[0m\n\u001b[0;32m---> 12\u001b[0;31m         \u001b[0mgreeting\u001b[0m \u001b[0;34m=\u001b[0m \u001b[0msession\u001b[0m\u001b[0;34m.\u001b[0m\u001b[0mrun\u001b[0m\u001b[0;34m(\u001b[0m\u001b[0;34m\"RETURN 'Connected to Neo4j' AS message\"\u001b[0m\u001b[0;34m)\u001b[0m\u001b[0;34m.\u001b[0m\u001b[0msingle\u001b[0m\u001b[0;34m(\u001b[0m\u001b[0;34m)\u001b[0m\u001b[0;34m[\u001b[0m\u001b[0;34m\"message\"\u001b[0m\u001b[0;34m]\u001b[0m\u001b[0;34m\u001b[0m\u001b[0;34m\u001b[0m\u001b[0m\n\u001b[0m\u001b[1;32m     13\u001b[0m         \u001b[0mprint\u001b[0m\u001b[0;34m(\u001b[0m\u001b[0mgreeting\u001b[0m\u001b[0;34m)\u001b[0m\u001b[0;34m\u001b[0m\u001b[0;34m\u001b[0m\u001b[0m\n\u001b[1;32m     14\u001b[0m \u001b[0;34m\u001b[0m\u001b[0m\n",
            "\u001b[0;32m/usr/local/lib/python3.11/dist-packages/neo4j/_sync/work/session.py\u001b[0m in \u001b[0;36mrun\u001b[0;34m(self, query, parameters, **kwargs)\u001b[0m\n\u001b[1;32m    311\u001b[0m \u001b[0;34m\u001b[0m\u001b[0m\n\u001b[1;32m    312\u001b[0m         \u001b[0;32mif\u001b[0m \u001b[0;32mnot\u001b[0m \u001b[0mself\u001b[0m\u001b[0;34m.\u001b[0m\u001b[0m_connection\u001b[0m\u001b[0;34m:\u001b[0m\u001b[0;34m\u001b[0m\u001b[0;34m\u001b[0m\u001b[0m\n\u001b[0;32m--> 313\u001b[0;31m             \u001b[0mself\u001b[0m\u001b[0;34m.\u001b[0m\u001b[0m_connect\u001b[0m\u001b[0;34m(\u001b[0m\u001b[0mself\u001b[0m\u001b[0;34m.\u001b[0m\u001b[0m_config\u001b[0m\u001b[0;34m.\u001b[0m\u001b[0mdefault_access_mode\u001b[0m\u001b[0;34m)\u001b[0m\u001b[0;34m\u001b[0m\u001b[0;34m\u001b[0m\u001b[0m\n\u001b[0m\u001b[1;32m    314\u001b[0m             \u001b[0;32massert\u001b[0m \u001b[0mself\u001b[0m\u001b[0;34m.\u001b[0m\u001b[0m_connection\u001b[0m \u001b[0;32mis\u001b[0m \u001b[0;32mnot\u001b[0m \u001b[0;32mNone\u001b[0m\u001b[0;34m\u001b[0m\u001b[0;34m\u001b[0m\u001b[0m\n\u001b[1;32m    315\u001b[0m         \u001b[0mcx\u001b[0m \u001b[0;34m=\u001b[0m \u001b[0mself\u001b[0m\u001b[0;34m.\u001b[0m\u001b[0m_connection\u001b[0m\u001b[0;34m\u001b[0m\u001b[0;34m\u001b[0m\u001b[0m\n",
            "\u001b[0;32m/usr/local/lib/python3.11/dist-packages/neo4j/_sync/work/session.py\u001b[0m in \u001b[0;36m_connect\u001b[0;34m(self, access_mode, **acquire_kwargs)\u001b[0m\n\u001b[1;32m    134\u001b[0m             \u001b[0maccess_mode\u001b[0m \u001b[0;34m=\u001b[0m \u001b[0mself\u001b[0m\u001b[0;34m.\u001b[0m\u001b[0m_config\u001b[0m\u001b[0;34m.\u001b[0m\u001b[0mdefault_access_mode\u001b[0m\u001b[0;34m\u001b[0m\u001b[0;34m\u001b[0m\u001b[0m\n\u001b[1;32m    135\u001b[0m         \u001b[0;32mtry\u001b[0m\u001b[0;34m:\u001b[0m\u001b[0;34m\u001b[0m\u001b[0;34m\u001b[0m\u001b[0m\n\u001b[0;32m--> 136\u001b[0;31m             super()._connect(\n\u001b[0m\u001b[1;32m    137\u001b[0m                 \u001b[0maccess_mode\u001b[0m\u001b[0;34m,\u001b[0m \u001b[0mauth\u001b[0m\u001b[0;34m=\u001b[0m\u001b[0mself\u001b[0m\u001b[0;34m.\u001b[0m\u001b[0m_config\u001b[0m\u001b[0;34m.\u001b[0m\u001b[0mauth\u001b[0m\u001b[0;34m,\u001b[0m \u001b[0;34m**\u001b[0m\u001b[0macquire_kwargs\u001b[0m\u001b[0;34m\u001b[0m\u001b[0;34m\u001b[0m\u001b[0m\n\u001b[1;32m    138\u001b[0m             )\n",
            "\u001b[0;32m/usr/local/lib/python3.11/dist-packages/neo4j/_sync/work/workspace.py\u001b[0m in \u001b[0;36m_connect\u001b[0;34m(self, access_mode, auth, **acquire_kwargs)\u001b[0m\n\u001b[1;32m    184\u001b[0m \u001b[0;34m\u001b[0m\u001b[0m\n\u001b[1;32m    185\u001b[0m         \u001b[0mssr_enabled\u001b[0m \u001b[0;34m=\u001b[0m \u001b[0mself\u001b[0m\u001b[0;34m.\u001b[0m\u001b[0m_pool\u001b[0m\u001b[0;34m.\u001b[0m\u001b[0mssr_enabled\u001b[0m\u001b[0;34m\u001b[0m\u001b[0;34m\u001b[0m\u001b[0m\n\u001b[0;32m--> 186\u001b[0;31m         target_db = self._get_routing_target_database(\n\u001b[0m\u001b[1;32m    187\u001b[0m             \u001b[0macquire_auth\u001b[0m\u001b[0;34m,\u001b[0m \u001b[0mssr_enabled\u001b[0m\u001b[0;34m=\u001b[0m\u001b[0mssr_enabled\u001b[0m\u001b[0;34m\u001b[0m\u001b[0;34m\u001b[0m\u001b[0m\n\u001b[1;32m    188\u001b[0m         )\n",
            "\u001b[0;32m/usr/local/lib/python3.11/dist-packages/neo4j/_sync/work/workspace.py\u001b[0m in \u001b[0;36m_get_routing_target_database\u001b[0;34m(self, acquire_auth, ssr_enabled)\u001b[0m\n\u001b[1;32m    258\u001b[0m         \u001b[0macquisition_timeout\u001b[0m \u001b[0;34m=\u001b[0m \u001b[0mself\u001b[0m\u001b[0;34m.\u001b[0m\u001b[0m_config\u001b[0m\u001b[0;34m.\u001b[0m\u001b[0mconnection_acquisition_timeout\u001b[0m\u001b[0;34m\u001b[0m\u001b[0;34m\u001b[0m\u001b[0m\n\u001b[1;32m    259\u001b[0m         \u001b[0mlog\u001b[0m\u001b[0;34m.\u001b[0m\u001b[0mdebug\u001b[0m\u001b[0;34m(\u001b[0m\u001b[0;34m\"[#0000]  _: <WORKSPACE> resolve home database\"\u001b[0m\u001b[0;34m)\u001b[0m\u001b[0;34m\u001b[0m\u001b[0;34m\u001b[0m\u001b[0m\n\u001b[0;32m--> 260\u001b[0;31m         self._pool.update_routing_table(\n\u001b[0m\u001b[1;32m    261\u001b[0m             \u001b[0mdatabase\u001b[0m\u001b[0;34m=\u001b[0m\u001b[0mself\u001b[0m\u001b[0;34m.\u001b[0m\u001b[0m_config\u001b[0m\u001b[0;34m.\u001b[0m\u001b[0mdatabase\u001b[0m\u001b[0;34m,\u001b[0m\u001b[0;34m\u001b[0m\u001b[0;34m\u001b[0m\u001b[0m\n\u001b[1;32m    262\u001b[0m             \u001b[0mimp_user\u001b[0m\u001b[0;34m=\u001b[0m\u001b[0mself\u001b[0m\u001b[0;34m.\u001b[0m\u001b[0m_config\u001b[0m\u001b[0;34m.\u001b[0m\u001b[0mimpersonated_user\u001b[0m\u001b[0;34m,\u001b[0m\u001b[0;34m\u001b[0m\u001b[0;34m\u001b[0m\u001b[0m\n",
            "\u001b[0;32m/usr/local/lib/python3.11/dist-packages/neo4j/_sync/io/_pool.py\u001b[0m in \u001b[0;36mupdate_routing_table\u001b[0;34m(self, database, imp_user, bookmarks, auth, acquisition_timeout, database_callback)\u001b[0m\n\u001b[1;32m   1009\u001b[0m             \u001b[0;31m# None of the routers have been successful, so just fail\u001b[0m\u001b[0;34m\u001b[0m\u001b[0;34m\u001b[0m\u001b[0m\n\u001b[1;32m   1010\u001b[0m             \u001b[0mlog\u001b[0m\u001b[0;34m.\u001b[0m\u001b[0merror\u001b[0m\u001b[0;34m(\u001b[0m\u001b[0;34m\"Unable to retrieve routing information\"\u001b[0m\u001b[0;34m)\u001b[0m\u001b[0;34m\u001b[0m\u001b[0;34m\u001b[0m\u001b[0m\n\u001b[0;32m-> 1011\u001b[0;31m             \u001b[0;32mraise\u001b[0m \u001b[0mServiceUnavailable\u001b[0m\u001b[0;34m(\u001b[0m\u001b[0;34m\"Unable to retrieve routing information\"\u001b[0m\u001b[0;34m)\u001b[0m\u001b[0;34m\u001b[0m\u001b[0;34m\u001b[0m\u001b[0m\n\u001b[0m\u001b[1;32m   1012\u001b[0m \u001b[0;34m\u001b[0m\u001b[0m\n\u001b[1;32m   1013\u001b[0m     \u001b[0;32mdef\u001b[0m \u001b[0mupdate_connection_pool\u001b[0m\u001b[0;34m(\u001b[0m\u001b[0mself\u001b[0m\u001b[0;34m)\u001b[0m\u001b[0;34m:\u001b[0m\u001b[0;34m\u001b[0m\u001b[0;34m\u001b[0m\u001b[0m\n",
            "\u001b[0;31mServiceUnavailable\u001b[0m: Unable to retrieve routing information"
          ]
        }
      ]
    },
    {
      "cell_type": "code",
      "source": [
        "# Function to run Cypher query\n",
        "def run_query(cypher_query, parameters=None):\n",
        "    with driver.session() as session:\n",
        "        result = session.run(cypher_query, parameters or {})\n",
        "        return [record.data() for record in result]\n",
        "\n",
        "# Query of showing example nodes\n",
        "query = \"MATCH (n) RETURN n LIMIT 5\"\n",
        "results = run_query(query)\n",
        "for r in results:\n",
        "    print(r)"
      ],
      "metadata": {
        "id": "ixfGJVXNA8vu"
      },
      "execution_count": null,
      "outputs": []
    },
    {
      "cell_type": "code",
      "source": [
        "# Function to find similar nodes using cosine similarity ( Edit the code to use indexes to be faster and used single query to gest similar nodes)\n",
        "def find_similar_nodes(text_embedding, top_n):\n",
        "     embedding_list = text_embedding.tolist()\n",
        "     cypher_query = \"\"\"\n",
        "     MATCH (n)-[:HAS_EMBEDDING]->(e:ABSTRACT)\n",
        "     WHERE e.embedding IS NOT NULL\n",
        "     WITH n, labels(n) AS labels, gds.similarity.cosine($sent_embedding, e.embedding) AS similarity\n",
        "     RETURN n, labels, similarity\n",
        "     ORDER BY similarity DESC\n",
        "     LIMIT $limit\n",
        "     \"\"\"\n",
        "     parameters = {\"sent_embedding\": embedding_list, \"limit\": top_n}\n",
        "     results = run_query(cypher_query, parameters)\n",
        "     return results"
      ],
      "metadata": {
        "id": "ULkrQwQp0yZ0"
      },
      "execution_count": null,
      "outputs": []
    },
    {
      "cell_type": "markdown",
      "source": [
        "### Exacute the app and get output"
      ],
      "metadata": {
        "id": "rwtc54A5zDAX"
      }
    },
    {
      "cell_type": "code",
      "source": [
        "### --- ### Sample text for test ### --- ###\n",
        "\n",
        "# 1- This is an application about Breast Cancer.\n",
        "# 2- Treating high blood pressure, high blood lipids, diabetes.\n",
        "# 3- Heart failure, heart attack, stroke, aneurysm, peripheral artery disease, sudden cardiac arrest. Deaths: 17.9 million / 32% (2015)\n",
        "# 4- Heart failure and stroke are common causes of death."
      ],
      "metadata": {
        "id": "JtJfbcuIyHW2"
      },
      "execution_count": null,
      "outputs": []
    },
    {
      "cell_type": "code",
      "source": [
        "# Example usage (Sentence: This is an application about Breast Cancer.)\n",
        "if __name__ == \"__main__\":\n",
        "    user_text = input(\"Enter your text: \")\n",
        "\n",
        "    # Get sentence embedding\n",
        "    full_text_embedding = get_text_embedding(user_text)\n",
        "    print(\"\\nSentence Embedding vector shape:\", full_text_embedding.shape)\n",
        "    print(\"Sentence Embedding (first 10 values):\", full_text_embedding[:10])\n",
        "\n",
        "    # Call function to run similarity query\n",
        "    similar_nodes = find_similar_nodes(full_text_embedding, top_n=5)\n",
        "\n",
        "    # Show the result\n",
        "    print(f\"\\nTop {len(similar_nodes)} similar nodes:\")\n",
        "    for node_data in similar_nodes:\n",
        "      print(f\"Node: {node_data['n']}, Similarity: {node_data['similarity']:.4f}\")"
      ],
      "metadata": {
        "id": "FDLS5aPhxtUW"
      },
      "execution_count": null,
      "outputs": []
    },
    {
      "cell_type": "markdown",
      "source": [
        "### Import extracted data to local dataset (Optional)"
      ],
      "metadata": {
        "id": "kUPmA08xdDGs"
      }
    },
    {
      "cell_type": "code",
      "source": [
        "# Define Neo4j connection credentials\n",
        "# --- Connect to Second Database ---\n",
        "SECOND_NEO4J_URI = \"neo4j+s://17c6383a.databases.neo4j.io\"\n",
        "SECOND_NEO4J_USER = \"neo4j\"\n",
        "SECOND_NEO4J_PASSWORD = \"MMJrt6Cc0cp4VQn6QJJphqXFUUytZOpc0ip1tErl-4U\"\n",
        "second_driver = GraphDatabase.driver(SECOND_NEO4J_URI, auth=(SECOND_NEO4J_USER, SECOND_NEO4J_PASSWORD))\n",
        "\n",
        "# Function to test connection\n",
        "def test_connection():\n",
        "    with second_driver.session() as session:\n",
        "        greeting = session.run(\"RETURN 'Connected to Neo4j' AS message\").single()[\"message\"]\n",
        "        print(greeting)\n",
        "\n",
        "if __name__ == \"__main__\":\n",
        "    test_connection()"
      ],
      "metadata": {
        "id": "41KoReXkNgoV"
      },
      "execution_count": null,
      "outputs": []
    },
    {
      "cell_type": "code",
      "source": [
        "# Function to import extracted similar nodes into local graph database by implementing cypher query\n",
        "def import_nodes_to_second_db(nodes_data):\n",
        "    with second_driver.session() as session:\n",
        "        for record in nodes_data:\n",
        "            node_props = record['n']\n",
        "            labels = record['labels']  # From the modified query\n",
        "\n",
        "            # Build Cypher query\n",
        "            label_string = \":\".join(labels)\n",
        "            prop_keys = \", \".join(f\"{k}: ${k}\" for k in node_props.keys())\n",
        "            cypher_query = f\"CREATE (n:{label_string} {{ {prop_keys} }})\"\n",
        "\n",
        "            session.run(cypher_query, node_props)\n",
        "\n",
        "    print(f\"✅ Imported {len(nodes_data)} nodes to the second Neo4j database.\")"
      ],
      "metadata": {
        "id": "kWTHOCsMXHV_"
      },
      "execution_count": null,
      "outputs": []
    },
    {
      "cell_type": "code",
      "source": [
        "# Import to second Neo4j\n",
        "import_nodes_to_second_db(similar_nodes)"
      ],
      "metadata": {
        "id": "naMEk7g2XO08"
      },
      "execution_count": null,
      "outputs": []
    },
    {
      "cell_type": "code",
      "source": [
        "# Function to run Cypher query\n",
        "def run_query(cypher_query, parameters=None):\n",
        "    with second_driver.session() as session:\n",
        "        result = session.run(cypher_query, parameters or {})\n",
        "        return [record.data() for record in result]\n",
        "\n",
        "# Query of showing example nodes\n",
        "query = \"MATCH (n) RETURN n LIMIT 5\"\n",
        "results = run_query(query)\n",
        "for r in results:\n",
        "    print(r)"
      ],
      "metadata": {
        "id": "WNNAhqzhNxNE"
      },
      "execution_count": null,
      "outputs": []
    }
  ]
}