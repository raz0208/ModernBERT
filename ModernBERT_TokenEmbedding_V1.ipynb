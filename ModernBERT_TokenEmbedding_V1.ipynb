{
  "nbformat": 4,
  "nbformat_minor": 0,
  "metadata": {
    "colab": {
      "provenance": [],
      "authorship_tag": "ABX9TyNCO+HJh+PDjJj2i3Sd1a6U",
      "include_colab_link": true
    },
    "kernelspec": {
      "name": "python3",
      "display_name": "Python 3"
    },
    "language_info": {
      "name": "python"
    }
  },
  "cells": [
    {
      "cell_type": "markdown",
      "metadata": {
        "id": "view-in-github",
        "colab_type": "text"
      },
      "source": [
        "<a href=\"https://colab.research.google.com/github/raz0208/ModernBERT/blob/main/ModernBERT_TokenEmbedding_V1.ipynb\" target=\"_parent\"><img src=\"https://colab.research.google.com/assets/colab-badge.svg\" alt=\"Open In Colab\"/></a>"
      ]
    },
    {
      "cell_type": "markdown",
      "source": [
        "## Extract embedding form inpot text using ModernBERT Version 1"
      ],
      "metadata": {
        "id": "wBPYTlRkw_zf"
      }
    },
    {
      "cell_type": "code",
      "source": [
        "# Install Neo4j\n",
        "!pip install neo4j"
      ],
      "metadata": {
        "colab": {
          "base_uri": "https://localhost:8080/"
        },
        "id": "YFfSLdKp_TZy",
        "outputId": "86bf1f2f-aa6c-4b21-e40b-e4417d673e23"
      },
      "execution_count": 1,
      "outputs": [
        {
          "output_type": "stream",
          "name": "stdout",
          "text": [
            "Collecting neo4j\n",
            "  Downloading neo4j-5.28.1-py3-none-any.whl.metadata (5.9 kB)\n",
            "Requirement already satisfied: pytz in /usr/local/lib/python3.11/dist-packages (from neo4j) (2025.2)\n",
            "Downloading neo4j-5.28.1-py3-none-any.whl (312 kB)\n",
            "\u001b[2K   \u001b[90m━━━━━━━━━━━━━━━━━━━━━━━━━━━━━━━━━━━━━━━━\u001b[0m \u001b[32m312.3/312.3 kB\u001b[0m \u001b[31m5.1 MB/s\u001b[0m eta \u001b[36m0:00:00\u001b[0m\n",
            "\u001b[?25hInstalling collected packages: neo4j\n",
            "Successfully installed neo4j-5.28.1\n"
          ]
        }
      ]
    },
    {
      "cell_type": "code",
      "source": [
        "# import required libraries\n",
        "import os\n",
        "import numpy as np\n",
        "import pandas as pd\n",
        "import torch\n",
        "from transformers import AutoTokenizer, AutoModel\n",
        "from neo4j import GraphDatabase"
      ],
      "metadata": {
        "id": "9-ZP6xJPxKE0"
      },
      "execution_count": 2,
      "outputs": []
    },
    {
      "cell_type": "markdown",
      "source": [
        "### Load NLP and ModernBert models"
      ],
      "metadata": {
        "id": "m9D7ByFGxVTH"
      }
    },
    {
      "cell_type": "code",
      "source": [
        "# Load ModernBERT tokenizer and model from Hugging Face\n",
        "MODEL_NAME = \"answerdotai/ModernBERT-base\"\n",
        "tokenizer = AutoTokenizer.from_pretrained(MODEL_NAME)\n",
        "model = AutoModel.from_pretrained(MODEL_NAME)"
      ],
      "metadata": {
        "id": "60H3zDHCxRuW"
      },
      "execution_count": null,
      "outputs": []
    },
    {
      "cell_type": "markdown",
      "source": [
        "### Extract emmbedings based on full text"
      ],
      "metadata": {
        "id": "A3rfDOmqxzXz"
      }
    },
    {
      "cell_type": "code",
      "source": [
        "# Function to get inpout text and return full text embedding\n",
        "def get_text_embedding(text):\n",
        "    # Tokenize input text\n",
        "    inputs = tokenizer(text, return_tensors=\"pt\", truncation=True, padding=True)\n",
        "\n",
        "    # Forward pass to get hidden states\n",
        "    with torch.no_grad():\n",
        "        outputs = model(**inputs)\n",
        "\n",
        "    # Get the embeddings (use CLS token for sentence-level embedding)\n",
        "    cls_embedding = outputs.last_hidden_state[:, 0, :]  # shape: [batch_size, hidden_size]\n",
        "\n",
        "    return cls_embedding.squeeze().numpy()"
      ],
      "metadata": {
        "id": "V0vUQ6Zfxy7-"
      },
      "execution_count": 4,
      "outputs": []
    },
    {
      "cell_type": "markdown",
      "source": [
        "## Use Neo4j to connect the graph database"
      ],
      "metadata": {
        "id": "rWP63a-k_FtF"
      }
    },
    {
      "cell_type": "code",
      "source": [
        "# Define Neo4j connection credentials\n",
        "NEO4J_URI = \"neo4j://143.225.233.156:7687\"\n",
        "NEO4J_USER = \"rezaazari\"\n",
        "NEO4J_PASSWORD = \"rAzari987\"\n",
        "\n",
        "# Initialize the driver\n",
        "driver = GraphDatabase.driver(NEO4J_URI, auth=(NEO4J_USER, NEO4J_PASSWORD))\n",
        "\n",
        "# Function to test connection\n",
        "def test_connection():\n",
        "    with driver.session() as session:\n",
        "        greeting = session.run(\"RETURN 'Connected to Neo4j' AS message\").single()[\"message\"]\n",
        "        print(greeting)\n",
        "\n",
        "if __name__ == \"__main__\":\n",
        "    test_connection()"
      ],
      "metadata": {
        "colab": {
          "base_uri": "https://localhost:8080/"
        },
        "id": "zboDdVNq_pcC",
        "outputId": "2caf986c-70e6-4dc6-85a9-14d01c62d91d"
      },
      "execution_count": 7,
      "outputs": [
        {
          "output_type": "stream",
          "name": "stdout",
          "text": [
            "Connected to Neo4j\n"
          ]
        }
      ]
    },
    {
      "cell_type": "code",
      "source": [
        "# Function to run Cypher query\n",
        "def run_query(cypher_query, parameters=None):\n",
        "    with driver.session() as session:\n",
        "        result = session.run(cypher_query, parameters or {})\n",
        "        return [record.data() for record in result]\n",
        "\n",
        "# Query of showing example nodes\n",
        "query = \"MATCH (n) RETURN n LIMIT 5\"\n",
        "results = run_query(query)\n",
        "for r in results:\n",
        "    print(r)"
      ],
      "metadata": {
        "colab": {
          "base_uri": "https://localhost:8080/"
        },
        "id": "ixfGJVXNA8vu",
        "outputId": "3e782548-1d3e-4763-dc27-0bba407e1071"
      },
      "execution_count": 8,
      "outputs": [
        {
          "output_type": "stream",
          "name": "stdout",
          "text": [
            "{'n': {'date': '1-12-1987', 'journal': 'The Journal of Cell Biology', 'hub': 0.0, 'auth': 2.6175247320960168e-12, 'subjects': 'Articles', 'pmc': 'PMC2114721', 'abstract': 'Meiosis I in males of the Dipteran Sciara coprophila results in the nonrandom distribution of maternally and paternally derived chromosome sets to the two division products. Based on an earlier study (Kubai, D.F. 1982. J. Cell Biol. 93:655-669), I suggested that the meiosis I spindle does not play a direct role in the nonrandom sorting of chromosomes but that, instead, haploid sets are already separated in prophase nuclei well before the onset of spindle formation. Here I report more direct evidence that this hypothesis is true; this evidence was gained from ultrastructural reconstruction analyses of the arrangement of chromosomes in germ line nuclei (prophase nuclei in spermatogonia and spermatocytes) of males heterozygous for an X- autosome chromosome translocation. Because of this translocation, the maternal and paternal chromosome sets are distinguishable, so it is possible to demonstrate that (a) the two haploid chromosome sets occupy distinct maternal and paternal nuclear compartments and that (b) nuclei are oriented so that the two haploid chromosome sets have consistent relationships to a well-defined cellular axis. The consequences of such nonrandom aspects of nuclear structure for chromosome behavior on premeiotic and meiotic spindles are discussed.', 'pmid': '3693389', 'title': 'Nonrandom chromosome arrangements in germ line nuclei of Sciara coprophila males: the basis for nonrandom chromosome segregation on the meiosis I spindle', 'authors': '[]'}}\n",
            "{'n': {'date': '1-12-1987', 'journal': 'The Journal of Cell Biology', 'hub': 0.0, 'auth': 2.6175247320960168e-12, 'subjects': 'Articles', 'pmc': 'PMC2114722', 'abstract': 'To determine molecular architecture of the type IV collagen network in situ, the human amniotic basement membrane has been studied en face in stereo relief by high resolution unidirectional metal shadow casting aided by antibody decoration and morphometry. The appearance of the intact basement membrane is that of a thin sheet in which there are regions of branching strands. Salt extraction further exposes these strands to reveal an extensive irregular polygonal network that can be specifically decorated with gold-conjugated anti-type IV collagen antibody. At high magnification one sees that the network, which contains integral (9-11 nm net diameter) globular domains, is formed in great part by lateral association of monomolecular filaments to form branching strands of variable but narrow diameters. Branch points are variably spaced apart by an average of 45 nm with 4.4 globular domains per micron of strand length. Monomolecular filaments (1.7-nm net diameter) often appear to twist around each other along the strand axis; we propose that super helix formation is an inherent characteristic of lateral assembly. A previous study (Yurchenco, P. D., and H. Furthmayr. 1984. Biochemistry. 23:1839) presented evidence that purified murine type IV collagen dimers polymerize to form polygonal arrays of laterally as well as end-domain-associated molecules. The architecture of this polymer is similar to the network seen in the amnion, with lateral binding a major contributor to each. Thus, to a first approximation, isolated type IV collagen can reconstitute in vitro the polymeric molecular architecture it assumes in vivo.', 'pmid': '3693393', 'title': 'Basement membrane structure in situ: evidence for lateral associations in the type IV collagen network', 'authors': '[]'}}\n",
            "{'n': {'date': '1-12-1987', 'journal': 'The Journal of Cell Biology', 'hub': 0.0, 'auth': 2.6175247320960168e-12, 'subjects': 'Articles', 'pmc': 'PMC2114723', 'abstract': 'In the preceding paper (Yamashiro, D. J., and F. R. Maxfield. 1987. J. Cell Biol. 105:2713-2721), we have shown that there is rapid acidification of endosomal compartments to pH 6.3 by 3 min in wild-type Chinese hamster ovary (CHO) cells. In contrast, early acidification of endosomes is markedly reduced in the CHO mutants, DTF 1-5-4 and DTF 1-5- 1. Since these CHO mutants are pleiotropically defective in endocytosis (Robbins, A. R., S. S. Peng, and J. L. Marshall. 1983. J. Cell Biol. 96:1064-1071; Robbins, A. R., C. Oliver, J. L. Bateman, S. S. Krag, C. J. Galloway, and I. Mellman. 1984. J. Cell Biol. 99:1296-1308), our results are consistent with a requirement for proper acidification of early endocytic compartments in many pH-regulated endocytic processes. In this paper, by measuring the pH of morphologically distinct endosomes using fluorescence microscopy and digital image analysis, we have determined in which of the endocytic compartments the defective acidification occurs. We found that the acidification of both the para- Golgi recycling endosomes and lysosomes was normal in the CHO mutants DTG 1-5-4 and DTF 1-5-1. The mean pH of large endosomes containing either fluorescein-labeled alpha 2-macroglobulin or fluorescein- isothiocyanate dextran was only slightly less acidic in the mutant cells than in wild-type cells. However, when we examined the pH of individual large (150-250 nm) endosomes, we found that there was an increased number of endosomes with a pH greater than 6.5 in the CHO mutants when compared with wild-type cells. Heterogeneity in the acidification of large endosomes was also seen in DTF 1-5-1 by a combined null point pH method and digital image analysis technique. In addition, both CHO mutants showed a marked decrease in the acidification of the earliest endosomal compartment, a diffusely fluorescent compartment comprised of small vesicles and tubules. We suggest that the defect in endosome acidification is most pronounced in the early, small vesicular, and tubular endosomes and that this defect partially carries over to the large endosomes that are involved in the sorting and processing of ligands. The proper step-wise acidification of the different endosomes along the endocytic pathway may have an important role in the regulation of endocytic processes.', 'pmid': '2447098', 'title': 'Acidification of morphologically distinct endosomes in mutant and wild- type Chinese hamster ovary cells', 'authors': '[]'}}\n",
            "{'n': {'date': '1-12-1987', 'journal': 'The Journal of Cell Biology', 'hub': 0.0, 'auth': 2.6175247320960168e-12, 'subjects': 'Articles', 'pmc': 'PMC2114724', 'abstract': 'Using immunohistochemical methods, we have investigated the role of transforming growth factor-beta (TGF-beta) in the development of the mouse embryo. For detection of TGF-beta in 11-18-d-old embryos, we have used a polyclonal antibody specific for TGF-beta type 1 and the peroxidase-antiperoxidase technique. Staining of TGF-beta is closely associated with mesenchyme per se or with tissues derived from mesenchyme, such as connective tissue, cartilage, and bone. TGF-beta is conspicuous in tissues derived from neural crest mesenchyme, such as the palate, larynx, facial mesenchyme, nasal sinuses, meninges, and teeth. Staining of all of these tissues is greatest during periods of morphogenesis. In many instances, intense staining is seen in mesenchyme when critical interactions with adjacent epithelium occur, as in the development of hair follicles, teeth, and the submandibular gland. Marked staining is also seen when remodeling of mesenchyme or mesoderm occurs, as during formation of digits from limb buds, formation of the palate, and formation of the heart valves. The presence of TGF-beta is often coupled with pronounced angiogenic activity. The histochemical results are discussed in terms of the known biochemical actions of TGF-beta, especially its ability to control both synthesis and degradation of both structural and adhesion molecules of the extracellular matrix.', 'pmid': '3320058', 'title': 'Role of transforming growth factor-beta in the development of the mouse embryo', 'authors': '[]'}}\n",
            "{'n': {'date': '1-12-1987', 'journal': 'The Journal of Cell Biology', 'hub': 0.0, 'auth': 2.6175247320960168e-12, 'subjects': 'Articles', 'pmc': 'PMC2114725', 'abstract': 'When macrophages and neutrophils are allowed to settle onto an appropriate surface, they attach and spread in a frustrated attempt to phagocytose the substrate. Spreading is associated with extensive rearrangements of the actin cytoskeleton which resemble those occurring during phagocytosis. We have previously shown that spreading in human neutrophils is preceded by an increase in cytosolic-free calcium concentration [( Ca2+]i) (Kruskal, B. A., S. Shak, and F. R. Maxfield. 1986. Proc. Natl. Acad. Sci. USA. 83:2919-2923). To assess the generality of this signal, we measured [Ca2+]i in single thioglycollate- elicited mouse peritoneal macrophages as they spread on an immune complex-coated surface, using fura-2 microspectrofluorometry. A [Ca2+]i increase always precedes spreading. This increase can involve several (up to 8) [Ca2+]i spikes, with an average peak value of 387 +/- 227 nM (mean +/- SD, n = 92 peaks in 24 cells), before spreading is detected. Neither spreading nor the magnitude of these spikes is significantly altered by removal of extracellular calcium. Many of the spreading macrophages exhibit periodic [Ca2+]i increases before and during spreading. The proportion which does so varies among experiments from 0 to 90%, but it is frequently greater than 40%. The largest number of cells (approximately 25%) exhibited only a single peak. In 13 cells that showed more than 10 peaks, the median period was 29 s (range 19-69 s). The average peak [Ca2+]i was 385 +/- 266 nM (mean +/- SD, n = 208 peaks in 14 cells). The calcium producing these increases is derived from intracellular pools. The oscillations occur with spreading on either opsonized or nonopsonized surfaces. The function of these oscillations is not clear, but the large number of cells which exhibit them suggest that they may be important to macrophage function.', 'pmid': '3693396', 'title': 'Cytosolic free calcium increases before and oscillates during frustrated phagocytosis in macrophages', 'authors': '[]'}}\n"
          ]
        }
      ]
    },
    {
      "cell_type": "code",
      "source": [
        "# Function to find similar nodes using cosine similarity\n",
        "def find_similar_nodes(text_embedding, top_n):\n",
        "     embedding_list = text_embedding.tolist()\n",
        "     cypher_query = \"\"\"\n",
        "     MATCH (n)-[:HAS_EMBEDDING]->(e:ABSTRACT)\n",
        "     WHERE e.embedding IS NOT NULL\n",
        "     WITH n, labels(n) AS labels, gds.similarity.cosine($sent_embedding, e.embedding) AS similarity\n",
        "     RETURN n, labels, similarity\n",
        "     ORDER BY similarity DESC\n",
        "     LIMIT $limit\n",
        "     \"\"\"\n",
        "     parameters = {\"sent_embedding\": embedding_list, \"limit\": top_n}\n",
        "     results = run_query(cypher_query, parameters)\n",
        "     return results"
      ],
      "metadata": {
        "id": "ULkrQwQp0yZ0"
      },
      "execution_count": 9,
      "outputs": []
    },
    {
      "cell_type": "markdown",
      "source": [
        "### Exacute the app and get output"
      ],
      "metadata": {
        "id": "rwtc54A5zDAX"
      }
    },
    {
      "cell_type": "code",
      "source": [
        "### --- ### Sample text for test ### --- ###\n",
        "\n",
        "# 1- This is an application about Breast Cancer.\n",
        "# 2- Treating high blood pressure, high blood lipids, diabetes.\n",
        "# 3- Heart failure, heart attack, stroke, aneurysm, peripheral artery disease, sudden cardiac arrest. Deaths: 17.9 million / 32% (2015)\n",
        "# 4- Heart failure and stroke are common causes of death."
      ],
      "metadata": {
        "id": "JtJfbcuIyHW2"
      },
      "execution_count": null,
      "outputs": []
    },
    {
      "cell_type": "code",
      "source": [
        "# Example usage (Sentence: This is an application about Breast Cancer.)\n",
        "if __name__ == \"__main__\":\n",
        "    user_text = input(\"Enter your text: \")\n",
        "\n",
        "    # Get sentence embedding\n",
        "    full_text_embedding = get_text_embedding(user_text)\n",
        "    print(\"\\nSentence Embedding vector shape:\", full_text_embedding.shape)\n",
        "    print(\"Sentence Embedding (first 10 values):\", full_text_embedding[:10])\n",
        "\n",
        "    # Call function to run similarity query\n",
        "    similar_nodes = find_similar_nodes(full_text_embedding, top_n=5)\n",
        "\n",
        "    # Show the result\n",
        "    print(f\"\\nTop {len(similar_nodes)} similar nodes:\")\n",
        "    for node_data in similar_nodes:\n",
        "      print(f\"Node: {node_data['n']}, Similarity: {node_data['similarity']:.4f}\")"
      ],
      "metadata": {
        "colab": {
          "base_uri": "https://localhost:8080/"
        },
        "id": "FDLS5aPhxtUW",
        "outputId": "471cd599-721f-4a66-e396-f92b533d87a1"
      },
      "execution_count": 10,
      "outputs": [
        {
          "output_type": "stream",
          "name": "stdout",
          "text": [
            "Enter your text: Heart failure and stroke are common causes of death.\n",
            "\n",
            "Sentence Embedding vector shape: (768,)\n",
            "Sentence Embedding (first 10 values): [ 0.29387805 -1.011311   -0.8573238  -0.0694401  -0.75960284 -0.7222283\n",
            " -1.1270415  -1.2861124   0.33987576 -0.52254   ]\n",
            "\n",
            "Top 5 similar nodes:\n",
            "Node: {'date': '01-01-2021', 'journal': 'Epidemiology and Health', 'hub': 0.0, 'auth': 6.17622678094711e-49, 'subjects': 'Covid-19; Perspective', 'pmc': 'PMC8060517', 'abstract': 'As severe acute respiratory syndrome coronavirus 2 (SARS-CoV-2) continues to spread rapidly throughout the human population, the concept of “herd immunity” has attracted the attention of both decision-makers and the general public. In the absence of a vaccine, this entails that a large proportion of the population will be infected to develop immunity that would limit the severity and/or extent of subsequent outbreaks. We argue that adopting such an approach should be avoided for several reasons. There are significant uncertainties about whether achieving herd immunity is possible. If possible, achieving herd immunity would impose a large burden on society. There are gaps in protection, making it difficult to shield the vulnerable. It would defeat the purpose of avoiding harm caused by the virus. Lastly, dozens of countries are showing that containment is possible.', 'pmid': '33541010', 'title': 'COVID-19 herd immunity in the absence of a vaccine: an irresponsible approach', 'authors': \"['Khalife Jade', 'VanGennep Derrick']\", 'doi': '10.4178/epih.e2021012'}, Similarity: 0.8776\n",
            "Node: {'date': '01-01', 'journal': 'Information Technology & Management', 'hub': 0.0, 'auth': 3.030484905162655e-96, 'subjects': 'Article', 'pmc': 'PMC10010949', 'abstract': 'The purpose of this study was to investigate decision-makers’ views on changes that robotics will create in welfare services. The purpose was also to discover what the opportunities and challenges are in human–robot interaction during these changes and how to manage these changes. As a research method, an online survey was used. The survey was sent to Finnish decision-makers (N\\u2009=\\u2009184). They were divided into three groups: Techno-positive (n\\u2009=\\u200966), Techno-neutral (n\\u2009=\\u200947), and Techno-critical (n\\u2009=\\u200971). According to the results, more than 80% of the respondents saw that robots can offer support in existing work tasks, and more than 70% saw that the robots can do existing tasks. The most often mentioned challenges were the reduction of interaction and the reduction of human touch. Further, there are various knowledge needs among the respondents. Most of the knowledge needs were not based on the technical use of the robots; rather, they were quite scattered. The results suggest that successful use and implementation of robots in welfare services require a comprehensive plan and change agents. This study suggests that techno-positive people could act as change agents, assisting in implementing the changes. In addition, to manage change in the welfare services it is essential to improve the quality of the information, solve the resistance to change, create organizational awareness, and understanding, and establish a psychological commitment to change the processes.', 'title': 'Managing changes in the environment of human–robot interaction and welfare services', 'authors': \"['Tuisku Outi', 'Parjanen Satu', 'Hyypiä Mirva', 'Pekkarinen Satu']\", 'doi': '10.1007/s10799-023-00393-z'}, Similarity: 0.8766\n",
            "Node: {'date': '01-2-2022', 'journal': 'Lymphatic Research and Biology', 'hub': 0.0, 'auth': 2.261210583376669e-70, 'subjects': 'Original Articles', 'pmc': 'PMC8892971', 'abstract': 'Background: Measuring lymphedema with high accuracy is important for several reasons. The aim of this study was to assess the reliability and validity of three routinely used methods to estimate limb volumes. Methods and Results: Inverse water displacement, girth measurements, and Perometer measurements were executed. Although standard techniques were used, extra precautions were taken to maximize accuracy within and between observers. Water displacement, and girth and Perometer measurements resulted in standard deviations of 0.7%–0.8%, 0.5%, and 0.4%–1.0%, respectively. Conclusion: Measuring limb volumes using routine methods is not easy. Even under optimal conditions, the measurements are quite dependent on the observer. For practical situations, an easy, objective, and reliable method is lacking.', 'pmid': '33751914', 'title': 'Estimates for Assessment of Lymphedema: Reliability and Validity of Extremity Measurements', 'authors': \"['Houwen Frans', 'Stemkens Johannes', 'de Schipper Peter J.', 'van der Wouw Pim', 'Heitink Martijn', 'van Langen Herman']\", 'doi': '10.1089/lrb.2019.0082'}, Similarity: 0.8759\n",
            "Node: {'date': '01-01-2023', 'journal': 'International Journal of Preventive Medicine', 'hub': 0.0, 'auth': 1.3454070119225834e-32, 'subjects': 'Original Article', 'pmc': 'PMC10284252', 'abstract': 'Introduction: Food waste reflects inadequate food intake and is of economic and environmental importance. Therefore, understanding the underlying factors is a must to combat food waste. Methods: A qualitative study was conducted using semi-structured interviews with managers, nurses, nutritionists, food providers, kitchen staff, and inpatients at three hospitals in Tehran. Responses were recorded, coded, and analyzed thematically. Results: Forty-eight face-to-face interviews led to three core categories: 1. opinions/performance; 2. causes, related factors, and characteristics; and 3. rooting and suggestions. We found that the majority of the hospitalized patients did not consume their entire food. In spite of overall satisfaction with the quantity and quality of food, anorexia, personal taste, and poor quality of raw materials prohibited patients from eating. Also, rice was the most discarded food. Economic barriers were the most important hindrance to elevate the quality, and some strategies, like the supply of high-quality materials and recruiting skillful cooking team, were proposed to improve it. Conclusions: Our findings delineated a limited budget as the main barrier to improve the quality. Nevertheless, the low quality of hospital foods may actually impose a heavier economic burden due to food waste.', 'title': 'Why Patients Discard Their Food? A Qualitative Study in Iranian Hospitals', 'authors': \"['Anari Razieh', 'Amini Maryam', 'Nikooyeh Bahareh', 'Ghodsi Delaram', 'Neyestani Tirang R.']\", 'doi': '10.4103/ijpvm.ijpvm_212_22'}, Similarity: 0.8753\n",
            "Node: {'date': '01-01-2017', 'journal': 'Urology Annals', 'hub': 0.0, 'auth': 1.8900076817456935e-37, 'subjects': 'Case Report', 'pmc': 'PMC5405669', 'abstract': 'Tyrosine kinase inhibitor (TKI) and its side effects are well known. However, these are mainly descriptive, with pictorial data lacking. Here, in we report a case of metastatic renal cell carcinoma, treated with TKI, with classic side effects; supplemented with images that demonstrate the adverse effects of the drug. In addition, we discuss and demonstrate the computed tomography changes.', 'pmid': '28479777', 'title': 'One year survivor of metastatic renal cell carcinoma treated with pazopanib', 'authors': \"['Inn Fam Xeng', 'Ahmed Nurzarina', 'Hing Erica Yee', 'Jasman Mohd Hafidzul']\", 'doi': '10.4103/0974-7796.204178'}, Similarity: 0.8750\n"
          ]
        }
      ]
    },
    {
      "cell_type": "markdown",
      "source": [
        "### Import extracted data to local dataset"
      ],
      "metadata": {
        "id": "kUPmA08xdDGs"
      }
    },
    {
      "cell_type": "code",
      "source": [
        "# Define Neo4j connection credentials\n",
        "# --- Connect to Second Database ---\n",
        "SECOND_NEO4J_URI = \"neo4j+s://17c6383a.databases.neo4j.io\"\n",
        "SECOND_NEO4J_USER = \"neo4j\"\n",
        "SECOND_NEO4J_PASSWORD = \"MMJrt6Cc0cp4VQn6QJJphqXFUUytZOpc0ip1tErl-4U\"\n",
        "second_driver = GraphDatabase.driver(SECOND_NEO4J_URI, auth=(SECOND_NEO4J_USER, SECOND_NEO4J_PASSWORD))\n",
        "\n",
        "# Function to test connection\n",
        "def test_connection():\n",
        "    with second_driver.session() as session:\n",
        "        greeting = session.run(\"RETURN 'Connected to Neo4j' AS message\").single()[\"message\"]\n",
        "        print(greeting)\n",
        "\n",
        "if __name__ == \"__main__\":\n",
        "    test_connection()"
      ],
      "metadata": {
        "colab": {
          "base_uri": "https://localhost:8080/"
        },
        "id": "41KoReXkNgoV",
        "outputId": "d52236a8-ee07-47e1-bfb5-ed5229ba9d66"
      },
      "execution_count": 14,
      "outputs": [
        {
          "output_type": "stream",
          "name": "stdout",
          "text": [
            "Connected to Neo4j\n"
          ]
        }
      ]
    },
    {
      "cell_type": "code",
      "source": [
        "# Function to import extracted similar nodes into local graph database by implementing cypher query\n",
        "def import_nodes_to_second_db(nodes_data):\n",
        "    with second_driver.session() as session:\n",
        "        for record in nodes_data:\n",
        "            node_props = record['n']\n",
        "            labels = record['labels']  # From the modified query\n",
        "\n",
        "            # Build Cypher query\n",
        "            label_string = \":\".join(labels)\n",
        "            prop_keys = \", \".join(f\"{k}: ${k}\" for k in node_props.keys())\n",
        "            cypher_query = f\"CREATE (n:{label_string} {{ {prop_keys} }})\"\n",
        "\n",
        "            session.run(cypher_query, node_props)\n",
        "\n",
        "    print(f\"✅ Imported {len(nodes_data)} nodes to the second Neo4j database.\")"
      ],
      "metadata": {
        "id": "kWTHOCsMXHV_"
      },
      "execution_count": 15,
      "outputs": []
    },
    {
      "cell_type": "code",
      "source": [
        "# Import to second Neo4j\n",
        "import_nodes_to_second_db(similar_nodes)"
      ],
      "metadata": {
        "colab": {
          "base_uri": "https://localhost:8080/"
        },
        "id": "naMEk7g2XO08",
        "outputId": "0eaa9ce4-7094-4b77-d1e9-9963ac9b2536"
      },
      "execution_count": 17,
      "outputs": [
        {
          "output_type": "stream",
          "name": "stdout",
          "text": [
            "✅ Imported 5 nodes to the second Neo4j database.\n"
          ]
        }
      ]
    },
    {
      "cell_type": "code",
      "source": [
        "# Function to run Cypher query\n",
        "def run_query(cypher_query, parameters=None):\n",
        "    with second_driver.session() as session:\n",
        "        result = session.run(cypher_query, parameters or {})\n",
        "        return [record.data() for record in result]\n",
        "\n",
        "# Query of showing example nodes\n",
        "query = \"MATCH (n) RETURN n LIMIT 5\"\n",
        "results = run_query(query)\n",
        "for r in results:\n",
        "    print(r)"
      ],
      "metadata": {
        "colab": {
          "base_uri": "https://localhost:8080/"
        },
        "id": "WNNAhqzhNxNE",
        "outputId": "64f6ee9a-6ef3-4c1b-9dc8-72a5fe04d8cc"
      },
      "execution_count": 18,
      "outputs": [
        {
          "output_type": "stream",
          "name": "stdout",
          "text": [
            "{'n': {'date': '01-01-2021', 'journal': 'Epidemiology and Health', 'hub': 0.0, 'auth': 6.17622678094711e-49, 'subjects': 'Covid-19; Perspective', 'pmc': 'PMC8060517', 'abstract': 'As severe acute respiratory syndrome coronavirus 2 (SARS-CoV-2) continues to spread rapidly throughout the human population, the concept of “herd immunity” has attracted the attention of both decision-makers and the general public. In the absence of a vaccine, this entails that a large proportion of the population will be infected to develop immunity that would limit the severity and/or extent of subsequent outbreaks. We argue that adopting such an approach should be avoided for several reasons. There are significant uncertainties about whether achieving herd immunity is possible. If possible, achieving herd immunity would impose a large burden on society. There are gaps in protection, making it difficult to shield the vulnerable. It would defeat the purpose of avoiding harm caused by the virus. Lastly, dozens of countries are showing that containment is possible.', 'pmid': '33541010', 'title': 'COVID-19 herd immunity in the absence of a vaccine: an irresponsible approach', 'authors': \"['Khalife Jade', 'VanGennep Derrick']\", 'doi': '10.4178/epih.e2021012'}}\n",
            "{'n': {'date': '01-01', 'journal': 'Information Technology & Management', 'hub': 0.0, 'auth': 3.030484905162655e-96, 'subjects': 'Article', 'pmc': 'PMC10010949', 'abstract': 'The purpose of this study was to investigate decision-makers’ views on changes that robotics will create in welfare services. The purpose was also to discover what the opportunities and challenges are in human–robot interaction during these changes and how to manage these changes. As a research method, an online survey was used. The survey was sent to Finnish decision-makers (N\\u2009=\\u2009184). They were divided into three groups: Techno-positive (n\\u2009=\\u200966), Techno-neutral (n\\u2009=\\u200947), and Techno-critical (n\\u2009=\\u200971). According to the results, more than 80% of the respondents saw that robots can offer support in existing work tasks, and more than 70% saw that the robots can do existing tasks. The most often mentioned challenges were the reduction of interaction and the reduction of human touch. Further, there are various knowledge needs among the respondents. Most of the knowledge needs were not based on the technical use of the robots; rather, they were quite scattered. The results suggest that successful use and implementation of robots in welfare services require a comprehensive plan and change agents. This study suggests that techno-positive people could act as change agents, assisting in implementing the changes. In addition, to manage change in the welfare services it is essential to improve the quality of the information, solve the resistance to change, create organizational awareness, and understanding, and establish a psychological commitment to change the processes.', 'title': 'Managing changes in the environment of human–robot interaction and welfare services', 'authors': \"['Tuisku Outi', 'Parjanen Satu', 'Hyypiä Mirva', 'Pekkarinen Satu']\", 'doi': '10.1007/s10799-023-00393-z'}}\n",
            "{'n': {'date': '01-2-2022', 'journal': 'Lymphatic Research and Biology', 'hub': 0.0, 'auth': 2.261210583376669e-70, 'subjects': 'Original Articles', 'pmc': 'PMC8892971', 'abstract': 'Background: Measuring lymphedema with high accuracy is important for several reasons. The aim of this study was to assess the reliability and validity of three routinely used methods to estimate limb volumes. Methods and Results: Inverse water displacement, girth measurements, and Perometer measurements were executed. Although standard techniques were used, extra precautions were taken to maximize accuracy within and between observers. Water displacement, and girth and Perometer measurements resulted in standard deviations of 0.7%–0.8%, 0.5%, and 0.4%–1.0%, respectively. Conclusion: Measuring limb volumes using routine methods is not easy. Even under optimal conditions, the measurements are quite dependent on the observer. For practical situations, an easy, objective, and reliable method is lacking.', 'pmid': '33751914', 'title': 'Estimates for Assessment of Lymphedema: Reliability and Validity of Extremity Measurements', 'authors': \"['Houwen Frans', 'Stemkens Johannes', 'de Schipper Peter J.', 'van der Wouw Pim', 'Heitink Martijn', 'van Langen Herman']\", 'doi': '10.1089/lrb.2019.0082'}}\n",
            "{'n': {'date': '01-01-2023', 'journal': 'International Journal of Preventive Medicine', 'hub': 0.0, 'auth': 1.3454070119225834e-32, 'subjects': 'Original Article', 'pmc': 'PMC10284252', 'abstract': 'Introduction: Food waste reflects inadequate food intake and is of economic and environmental importance. Therefore, understanding the underlying factors is a must to combat food waste. Methods: A qualitative study was conducted using semi-structured interviews with managers, nurses, nutritionists, food providers, kitchen staff, and inpatients at three hospitals in Tehran. Responses were recorded, coded, and analyzed thematically. Results: Forty-eight face-to-face interviews led to three core categories: 1. opinions/performance; 2. causes, related factors, and characteristics; and 3. rooting and suggestions. We found that the majority of the hospitalized patients did not consume their entire food. In spite of overall satisfaction with the quantity and quality of food, anorexia, personal taste, and poor quality of raw materials prohibited patients from eating. Also, rice was the most discarded food. Economic barriers were the most important hindrance to elevate the quality, and some strategies, like the supply of high-quality materials and recruiting skillful cooking team, were proposed to improve it. Conclusions: Our findings delineated a limited budget as the main barrier to improve the quality. Nevertheless, the low quality of hospital foods may actually impose a heavier economic burden due to food waste.', 'title': 'Why Patients Discard Their Food? A Qualitative Study in Iranian Hospitals', 'authors': \"['Anari Razieh', 'Amini Maryam', 'Nikooyeh Bahareh', 'Ghodsi Delaram', 'Neyestani Tirang R.']\", 'doi': '10.4103/ijpvm.ijpvm_212_22'}}\n",
            "{'n': {'date': '01-01-2017', 'journal': 'Urology Annals', 'hub': 0.0, 'auth': 1.8900076817456935e-37, 'subjects': 'Case Report', 'pmc': 'PMC5405669', 'abstract': 'Tyrosine kinase inhibitor (TKI) and its side effects are well known. However, these are mainly descriptive, with pictorial data lacking. Here, in we report a case of metastatic renal cell carcinoma, treated with TKI, with classic side effects; supplemented with images that demonstrate the adverse effects of the drug. In addition, we discuss and demonstrate the computed tomography changes.', 'pmid': '28479777', 'title': 'One year survivor of metastatic renal cell carcinoma treated with pazopanib', 'authors': \"['Inn Fam Xeng', 'Ahmed Nurzarina', 'Hing Erica Yee', 'Jasman Mohd Hafidzul']\", 'doi': '10.4103/0974-7796.204178'}}\n"
          ]
        }
      ]
    }
  ]
}