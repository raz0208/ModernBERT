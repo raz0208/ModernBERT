{
  "nbformat": 4,
  "nbformat_minor": 0,
  "metadata": {
    "colab": {
      "provenance": [],
      "authorship_tag": "ABX9TyPm2+El21C2acsPNJ9VKCxo",
      "include_colab_link": true
    },
    "kernelspec": {
      "name": "python3",
      "display_name": "Python 3"
    },
    "language_info": {
      "name": "python"
    }
  },
  "cells": [
    {
      "cell_type": "markdown",
      "metadata": {
        "id": "view-in-github",
        "colab_type": "text"
      },
      "source": [
        "<a href=\"https://colab.research.google.com/github/raz0208/ModernBERT/blob/main/ModernBERT_TokenEmbedding_V1.ipynb\" target=\"_parent\"><img src=\"https://colab.research.google.com/assets/colab-badge.svg\" alt=\"Open In Colab\"/></a>"
      ]
    },
    {
      "cell_type": "markdown",
      "source": [
        "## Extract embedding form inpot text using ModernBERT Version 1"
      ],
      "metadata": {
        "id": "wBPYTlRkw_zf"
      }
    },
    {
      "cell_type": "code",
      "source": [
        "# import required libraries\n",
        "import os\n",
        "import numpy as np\n",
        "import pandas as pd\n",
        "import torch\n",
        "from transformers import AutoTokenizer, AutoModel"
      ],
      "metadata": {
        "id": "9-ZP6xJPxKE0"
      },
      "execution_count": 1,
      "outputs": []
    },
    {
      "cell_type": "markdown",
      "source": [
        "### Load NLP and ModernBert models"
      ],
      "metadata": {
        "id": "m9D7ByFGxVTH"
      }
    },
    {
      "cell_type": "code",
      "source": [
        "# Load ModernBERT tokenizer and model from Hugging Face\n",
        "MODEL_NAME = \"answerdotai/ModernBERT-base\"\n",
        "tokenizer = AutoTokenizer.from_pretrained(MODEL_NAME)\n",
        "model = AutoModel.from_pretrained(MODEL_NAME)"
      ],
      "metadata": {
        "id": "60H3zDHCxRuW"
      },
      "execution_count": null,
      "outputs": []
    },
    {
      "cell_type": "markdown",
      "source": [
        "### Extract emmbedings based on full text"
      ],
      "metadata": {
        "id": "A3rfDOmqxzXz"
      }
    },
    {
      "cell_type": "code",
      "source": [
        "# Function to get inpout text and return full text embedding\n",
        "def get_text_embedding(text):\n",
        "    # Tokenize input text\n",
        "    inputs = tokenizer(text, return_tensors=\"pt\", truncation=True, padding=True)\n",
        "\n",
        "    # Forward pass to get hidden states\n",
        "    with torch.no_grad():\n",
        "        outputs = model(**inputs)\n",
        "\n",
        "    # Get the embeddings (use CLS token for sentence-level embedding)\n",
        "    cls_embedding = outputs.last_hidden_state[:, 0, :]  # shape: [batch_size, hidden_size]\n",
        "\n",
        "    return cls_embedding.squeeze().numpy()"
      ],
      "metadata": {
        "id": "V0vUQ6Zfxy7-"
      },
      "execution_count": 3,
      "outputs": []
    },
    {
      "cell_type": "markdown",
      "source": [
        "## Use Neo4j to connect the graph database"
      ],
      "metadata": {
        "id": "rWP63a-k_FtF"
      }
    },
    {
      "cell_type": "code",
      "source": [
        "!pip install neo4j"
      ],
      "metadata": {
        "colab": {
          "base_uri": "https://localhost:8080/"
        },
        "id": "YFfSLdKp_TZy",
        "outputId": "f20051e6-3c0f-4cd5-a67f-4f02fc69d84e"
      },
      "execution_count": 4,
      "outputs": [
        {
          "output_type": "stream",
          "name": "stdout",
          "text": [
            "Collecting neo4j\n",
            "  Downloading neo4j-5.28.1-py3-none-any.whl.metadata (5.9 kB)\n",
            "Requirement already satisfied: pytz in /usr/local/lib/python3.11/dist-packages (from neo4j) (2025.2)\n",
            "Downloading neo4j-5.28.1-py3-none-any.whl (312 kB)\n",
            "\u001b[?25l   \u001b[90m━━━━━━━━━━━━━━━━━━━━━━━━━━━━━━━━━━━━━━━━\u001b[0m \u001b[32m0.0/312.3 kB\u001b[0m \u001b[31m?\u001b[0m eta \u001b[36m-:--:--\u001b[0m\r\u001b[2K   \u001b[91m━━━━━━━━━\u001b[0m\u001b[90m╺\u001b[0m\u001b[90m━━━━━━━━━━━━━━━━━━━━━━━━━━━━━━\u001b[0m \u001b[32m71.7/312.3 kB\u001b[0m \u001b[31m2.6 MB/s\u001b[0m eta \u001b[36m0:00:01\u001b[0m\r\u001b[2K   \u001b[90m━━━━━━━━━━━━━━━━━━━━━━━━━━━━━━━━━━━━━━━━\u001b[0m \u001b[32m312.3/312.3 kB\u001b[0m \u001b[31m4.8 MB/s\u001b[0m eta \u001b[36m0:00:00\u001b[0m\n",
            "\u001b[?25hInstalling collected packages: neo4j\n",
            "Successfully installed neo4j-5.28.1\n"
          ]
        }
      ]
    },
    {
      "cell_type": "code",
      "source": [
        "from neo4j import GraphDatabase\n",
        "\n",
        "# Define Neo4j connection credentials\n",
        "NEO4J_URI = \"neo4j://143.225.233.156:7687\"\n",
        "NEO4J_USER = \"rezaazari\"\n",
        "NEO4J_PASSWORD = \"rAzari987\"\n",
        "\n",
        "# Initialize the driver\n",
        "driver = GraphDatabase.driver(NEO4J_URI, auth=(NEO4J_USER, NEO4J_PASSWORD))\n",
        "\n",
        "# Function to test connection\n",
        "def test_connection():\n",
        "    with driver.session() as session:\n",
        "        greeting = session.run(\"RETURN 'Connected to Neo4j' AS message\").single()[\"message\"]\n",
        "        print(greeting)\n",
        "\n",
        "if __name__ == \"__main__\":\n",
        "    test_connection()"
      ],
      "metadata": {
        "colab": {
          "base_uri": "https://localhost:8080/"
        },
        "id": "zboDdVNq_pcC",
        "outputId": "d9736b85-1f0f-4948-f7b1-78a17c61ba3a"
      },
      "execution_count": 7,
      "outputs": [
        {
          "output_type": "stream",
          "name": "stdout",
          "text": [
            "Connected to Neo4j\n"
          ]
        }
      ]
    },
    {
      "cell_type": "code",
      "source": [
        "# Function to run Cypher query\n",
        "def run_query(cypher_query, parameters=None):\n",
        "    with driver.session() as session:\n",
        "        result = session.run(cypher_query, parameters or {})\n",
        "        return [record.data() for record in result]\n",
        "\n",
        "# Query of showing example nodes\n",
        "query = \"MATCH (n) RETURN n LIMIT 5\"\n",
        "results = run_query(query)\n",
        "for r in results:\n",
        "    print(r)"
      ],
      "metadata": {
        "colab": {
          "base_uri": "https://localhost:8080/"
        },
        "id": "ixfGJVXNA8vu",
        "outputId": "e7e8575c-a857-49e3-aaf5-7dc483e5dfa0"
      },
      "execution_count": 8,
      "outputs": [
        {
          "output_type": "stream",
          "name": "stdout",
          "text": [
            "{'n': {'date': '1-12-1987', 'journal': 'The Journal of Cell Biology', 'hub': 0.0, 'auth': 2.6175247320960168e-12, 'subjects': 'Articles', 'pmc': 'PMC2114721', 'abstract': 'Meiosis I in males of the Dipteran Sciara coprophila results in the nonrandom distribution of maternally and paternally derived chromosome sets to the two division products. Based on an earlier study (Kubai, D.F. 1982. J. Cell Biol. 93:655-669), I suggested that the meiosis I spindle does not play a direct role in the nonrandom sorting of chromosomes but that, instead, haploid sets are already separated in prophase nuclei well before the onset of spindle formation. Here I report more direct evidence that this hypothesis is true; this evidence was gained from ultrastructural reconstruction analyses of the arrangement of chromosomes in germ line nuclei (prophase nuclei in spermatogonia and spermatocytes) of males heterozygous for an X- autosome chromosome translocation. Because of this translocation, the maternal and paternal chromosome sets are distinguishable, so it is possible to demonstrate that (a) the two haploid chromosome sets occupy distinct maternal and paternal nuclear compartments and that (b) nuclei are oriented so that the two haploid chromosome sets have consistent relationships to a well-defined cellular axis. The consequences of such nonrandom aspects of nuclear structure for chromosome behavior on premeiotic and meiotic spindles are discussed.', 'pmid': '3693389', 'title': 'Nonrandom chromosome arrangements in germ line nuclei of Sciara coprophila males: the basis for nonrandom chromosome segregation on the meiosis I spindle', 'authors': '[]'}}\n",
            "{'n': {'date': '1-12-1987', 'journal': 'The Journal of Cell Biology', 'hub': 0.0, 'auth': 2.6175247320960168e-12, 'subjects': 'Articles', 'pmc': 'PMC2114722', 'abstract': 'To determine molecular architecture of the type IV collagen network in situ, the human amniotic basement membrane has been studied en face in stereo relief by high resolution unidirectional metal shadow casting aided by antibody decoration and morphometry. The appearance of the intact basement membrane is that of a thin sheet in which there are regions of branching strands. Salt extraction further exposes these strands to reveal an extensive irregular polygonal network that can be specifically decorated with gold-conjugated anti-type IV collagen antibody. At high magnification one sees that the network, which contains integral (9-11 nm net diameter) globular domains, is formed in great part by lateral association of monomolecular filaments to form branching strands of variable but narrow diameters. Branch points are variably spaced apart by an average of 45 nm with 4.4 globular domains per micron of strand length. Monomolecular filaments (1.7-nm net diameter) often appear to twist around each other along the strand axis; we propose that super helix formation is an inherent characteristic of lateral assembly. A previous study (Yurchenco, P. D., and H. Furthmayr. 1984. Biochemistry. 23:1839) presented evidence that purified murine type IV collagen dimers polymerize to form polygonal arrays of laterally as well as end-domain-associated molecules. The architecture of this polymer is similar to the network seen in the amnion, with lateral binding a major contributor to each. Thus, to a first approximation, isolated type IV collagen can reconstitute in vitro the polymeric molecular architecture it assumes in vivo.', 'pmid': '3693393', 'title': 'Basement membrane structure in situ: evidence for lateral associations in the type IV collagen network', 'authors': '[]'}}\n",
            "{'n': {'date': '1-12-1987', 'journal': 'The Journal of Cell Biology', 'hub': 0.0, 'auth': 2.6175247320960168e-12, 'subjects': 'Articles', 'pmc': 'PMC2114723', 'abstract': 'In the preceding paper (Yamashiro, D. J., and F. R. Maxfield. 1987. J. Cell Biol. 105:2713-2721), we have shown that there is rapid acidification of endosomal compartments to pH 6.3 by 3 min in wild-type Chinese hamster ovary (CHO) cells. In contrast, early acidification of endosomes is markedly reduced in the CHO mutants, DTF 1-5-4 and DTF 1-5- 1. Since these CHO mutants are pleiotropically defective in endocytosis (Robbins, A. R., S. S. Peng, and J. L. Marshall. 1983. J. Cell Biol. 96:1064-1071; Robbins, A. R., C. Oliver, J. L. Bateman, S. S. Krag, C. J. Galloway, and I. Mellman. 1984. J. Cell Biol. 99:1296-1308), our results are consistent with a requirement for proper acidification of early endocytic compartments in many pH-regulated endocytic processes. In this paper, by measuring the pH of morphologically distinct endosomes using fluorescence microscopy and digital image analysis, we have determined in which of the endocytic compartments the defective acidification occurs. We found that the acidification of both the para- Golgi recycling endosomes and lysosomes was normal in the CHO mutants DTG 1-5-4 and DTF 1-5-1. The mean pH of large endosomes containing either fluorescein-labeled alpha 2-macroglobulin or fluorescein- isothiocyanate dextran was only slightly less acidic in the mutant cells than in wild-type cells. However, when we examined the pH of individual large (150-250 nm) endosomes, we found that there was an increased number of endosomes with a pH greater than 6.5 in the CHO mutants when compared with wild-type cells. Heterogeneity in the acidification of large endosomes was also seen in DTF 1-5-1 by a combined null point pH method and digital image analysis technique. In addition, both CHO mutants showed a marked decrease in the acidification of the earliest endosomal compartment, a diffusely fluorescent compartment comprised of small vesicles and tubules. We suggest that the defect in endosome acidification is most pronounced in the early, small vesicular, and tubular endosomes and that this defect partially carries over to the large endosomes that are involved in the sorting and processing of ligands. The proper step-wise acidification of the different endosomes along the endocytic pathway may have an important role in the regulation of endocytic processes.', 'pmid': '2447098', 'title': 'Acidification of morphologically distinct endosomes in mutant and wild- type Chinese hamster ovary cells', 'authors': '[]'}}\n",
            "{'n': {'date': '1-12-1987', 'journal': 'The Journal of Cell Biology', 'hub': 0.0, 'auth': 2.6175247320960168e-12, 'subjects': 'Articles', 'pmc': 'PMC2114724', 'abstract': 'Using immunohistochemical methods, we have investigated the role of transforming growth factor-beta (TGF-beta) in the development of the mouse embryo. For detection of TGF-beta in 11-18-d-old embryos, we have used a polyclonal antibody specific for TGF-beta type 1 and the peroxidase-antiperoxidase technique. Staining of TGF-beta is closely associated with mesenchyme per se or with tissues derived from mesenchyme, such as connective tissue, cartilage, and bone. TGF-beta is conspicuous in tissues derived from neural crest mesenchyme, such as the palate, larynx, facial mesenchyme, nasal sinuses, meninges, and teeth. Staining of all of these tissues is greatest during periods of morphogenesis. In many instances, intense staining is seen in mesenchyme when critical interactions with adjacent epithelium occur, as in the development of hair follicles, teeth, and the submandibular gland. Marked staining is also seen when remodeling of mesenchyme or mesoderm occurs, as during formation of digits from limb buds, formation of the palate, and formation of the heart valves. The presence of TGF-beta is often coupled with pronounced angiogenic activity. The histochemical results are discussed in terms of the known biochemical actions of TGF-beta, especially its ability to control both synthesis and degradation of both structural and adhesion molecules of the extracellular matrix.', 'pmid': '3320058', 'title': 'Role of transforming growth factor-beta in the development of the mouse embryo', 'authors': '[]'}}\n",
            "{'n': {'date': '1-12-1987', 'journal': 'The Journal of Cell Biology', 'hub': 0.0, 'auth': 2.6175247320960168e-12, 'subjects': 'Articles', 'pmc': 'PMC2114725', 'abstract': 'When macrophages and neutrophils are allowed to settle onto an appropriate surface, they attach and spread in a frustrated attempt to phagocytose the substrate. Spreading is associated with extensive rearrangements of the actin cytoskeleton which resemble those occurring during phagocytosis. We have previously shown that spreading in human neutrophils is preceded by an increase in cytosolic-free calcium concentration [( Ca2+]i) (Kruskal, B. A., S. Shak, and F. R. Maxfield. 1986. Proc. Natl. Acad. Sci. USA. 83:2919-2923). To assess the generality of this signal, we measured [Ca2+]i in single thioglycollate- elicited mouse peritoneal macrophages as they spread on an immune complex-coated surface, using fura-2 microspectrofluorometry. A [Ca2+]i increase always precedes spreading. This increase can involve several (up to 8) [Ca2+]i spikes, with an average peak value of 387 +/- 227 nM (mean +/- SD, n = 92 peaks in 24 cells), before spreading is detected. Neither spreading nor the magnitude of these spikes is significantly altered by removal of extracellular calcium. Many of the spreading macrophages exhibit periodic [Ca2+]i increases before and during spreading. The proportion which does so varies among experiments from 0 to 90%, but it is frequently greater than 40%. The largest number of cells (approximately 25%) exhibited only a single peak. In 13 cells that showed more than 10 peaks, the median period was 29 s (range 19-69 s). The average peak [Ca2+]i was 385 +/- 266 nM (mean +/- SD, n = 208 peaks in 14 cells). The calcium producing these increases is derived from intracellular pools. The oscillations occur with spreading on either opsonized or nonopsonized surfaces. The function of these oscillations is not clear, but the large number of cells which exhibit them suggest that they may be important to macrophage function.', 'pmid': '3693396', 'title': 'Cytosolic free calcium increases before and oscillates during frustrated phagocytosis in macrophages', 'authors': '[]'}}\n"
          ]
        }
      ]
    },
    {
      "cell_type": "code",
      "source": [
        "# Function to find similar nodes using cosine similarity\n",
        "def find_similar_nodes(text_embedding, top_n):\n",
        "     embedding_list = text_embedding.tolist()\n",
        "     cypher_query = \"\"\"\n",
        "     MATCH (n)-[:HAS_EMBEDDING]->(e:ABSTRACT)\n",
        "     WHERE e.embedding IS NOT NULL\n",
        "     WITH n, e, gds.similarity.cosine($sent_embedding, e.embedding) AS similarity\n",
        "     RETURN n, similarity\n",
        "     ORDER BY similarity DESC\n",
        "     LIMIT $limit\n",
        "     \"\"\"\n",
        "     parameters = {\"sent_embedding\": embedding_list, \"limit\": top_n}\n",
        "     results = run_query(cypher_query, parameters)\n",
        "     return results"
      ],
      "metadata": {
        "id": "ULkrQwQp0yZ0"
      },
      "execution_count": 9,
      "outputs": []
    },
    {
      "cell_type": "code",
      "source": [
        "# # Call function to run similarity query\n",
        "# similar_nodes = find_similar_nodes(full_text_embedding, top_n=5)\n",
        "\n",
        "# # show the result\n",
        "# print(f\"\\nTop {len(similar_nodes)} similar nodes:\")\n",
        "# for node_data in similar_nodes:\n",
        "#          print(f\"Node: {node_data['n']}, Similarity: {node_data['similarity']:.4f}\")"
      ],
      "metadata": {
        "id": "RfQE1g8pEu5K"
      },
      "execution_count": null,
      "outputs": []
    },
    {
      "cell_type": "markdown",
      "source": [
        "### Exacute the app and get output"
      ],
      "metadata": {
        "id": "rwtc54A5zDAX"
      }
    },
    {
      "cell_type": "code",
      "source": [
        "### --- ### Sample text for test ### --- ###\n",
        "\n",
        "# 1- This is an application about Breast Cancer.\n",
        "# 2- Treating high blood pressure, high blood lipids, diabetes.\n",
        "# 3- Heart failure, heart attack, stroke, aneurysm, peripheral artery disease, sudden cardiac arrest. Deaths: 17.9 million / 32% (2015)\n",
        "# 4- Heart failure and stroke are common causes of death."
      ],
      "metadata": {
        "id": "JtJfbcuIyHW2"
      },
      "execution_count": 10,
      "outputs": []
    },
    {
      "cell_type": "code",
      "source": [
        "# Example usage (Sentence: This is an application about Breast Cancer.)\n",
        "if __name__ == \"__main__\":\n",
        "    user_text = input(\"Enter your text: \")\n",
        "\n",
        "    # Get sentence embedding\n",
        "    full_text_embedding = get_text_embedding(user_text)\n",
        "    print(\"\\nSentence Embedding vector shape:\", full_text_embedding.shape)\n",
        "    print(\"Sentence Embedding (first 10 values):\", full_text_embedding[:10])\n",
        "\n",
        "    # Call function to run similarity query\n",
        "    similar_nodes = find_similar_nodes(full_text_embedding, top_n=5)\n",
        "\n",
        "    # Show the result\n",
        "    print(f\"\\nTop {len(similar_nodes)} similar nodes:\")\n",
        "    for node_data in similar_nodes:\n",
        "      print(f\"Node: {node_data['n']}, Similarity: {node_data['similarity']:.4f}\")"
      ],
      "metadata": {
        "colab": {
          "base_uri": "https://localhost:8080/"
        },
        "id": "FDLS5aPhxtUW",
        "outputId": "2a26b4f7-ad99-4f21-e855-4bdef0d4d5f0"
      },
      "execution_count": 11,
      "outputs": [
        {
          "output_type": "stream",
          "name": "stdout",
          "text": [
            "Enter your text: Heart failure, heart attack, stroke, aneurysm, peripheral artery disease, sudden cardiac arrest. Deaths: 17.9 million / 32% (2015)\n",
            "\n",
            "Sentence Embedding vector shape: (768,)\n",
            "Sentence Embedding (first 10 values): [ 0.43869126 -0.26175603 -0.7007977   0.22565924 -0.38932806 -0.41834965\n",
            " -1.1746391  -0.8032964   0.19345134 -0.10638831]\n",
            "\n",
            "Top 5 similar nodes:\n",
            "Node: {'date': '01-7-2023', 'journal': 'Journal of Health Psychology', 'hub': 0.0, 'auth': 2.843039039510408e-56, 'subjects': 'Articles', 'pmc': 'PMC9679309', 'abstract': 'The COVID-19 pandemic continues to impact global psychological wellbeing. To investigate the sustained impact of COVID-19 on wellbeing, the current study longitudinally assessed fear of COVID-19, anxiety, depression, intolerance of uncertainty, worry, sleep quality, loneliness and alcohol use during the pandemic in the United Kingdom. Timepoint 1 (T1; N =\\u2009445) took place in February 2021 following the highest number of pandemic-related deaths in the UK. Timepoint 2 (T2, N =\\u2009198) took place in June 2021 when pandemic-related deaths had declined considerably, and many had been vaccinated. At T1, COVID-19 fear predicted elevated levels of anxiety, depression, intolerance of uncertainty, worry, sleep quality and loneliness. At T2, we observed that levels of COVID-19 fear, depression, loneliness and sleep quality decreased. However, COVID-19 fear continued to predict elevated intolerance of uncertainty, worry and impaired sleep quality. These findings demonstrate the longitudinal impact of COVID-19 fear on psychological wellbeing.', 'pmid': '36397647', 'title': 'Longitudinal assessment of COVID-19 fear and psychological wellbeing in the United Kingdom', 'authors': \"['Quigley Martyn', 'Whiteford Seb', 'Cameron Gemma', 'Zuj Daniel V', 'Zuj Daniel V', 'Dymond Simon', 'Dymond Simon']\", 'doi': '10.1177/13591053221134848'}, Similarity: 0.8821\n",
            "Node: {'date': '01-5-2011', 'journal': 'International Psychiatry', 'hub': 0.0, 'auth': 4.254505385240254e-45, 'subjects': 'Original Paper', 'pmc': 'PMC6735014', 'abstract': 'Working in psychiatry is generally rewarding. However, it can also lack job satisfaction and be detrimental to personal life. Research findings indicate high rates of burnout (Kumar et al , 2007 ), impaired health status of practitioners (Korkeila et al , 2003 ), negative effects of violence in the workplace (Inoue et al , 2006 ) and lack of job satisfaction (Fischer et al , 2007 ; Bressi et al , 2009 ).', 'pmid': '31508078', 'title': 'Working conditions and job satisfaction of Argentinian psychiatrists: initial results of a comprehensive survey', 'authors': \"['Wolfberg Elsa', 'Moldavsky Daniel']\"}, Similarity: 0.8811\n",
            "Node: {'date': '01-01', 'journal': 'Journal of Community Hospital Internal Medicine Perspectives', 'hub': 0.0, 'auth': 2.929322855193021e-37, 'subjects': 'Research Article; History of Medicine', 'pmc': 'PMC8043558', 'abstract': \"Abstract COVID-19 is not the world's first pandemic, not its worst, or likely to be its last. In fact, there have been many pandemics throughout history with lessons for the current one. The most destructive pandemic of all time, at least in terms of the number of people killed in the shortest time, was the “Spanish flu“ pandemic of 1918/1919. Why did it happen? What lessons did it teach us? And could it happen again? These questions are addressed in the context of the current COVID-19 pandemic and several other nearly equally devastating pandemics of earlier times\", 'pmid': '33889313', 'title': 'Prior pandemics. looking to the past for insight into the COVID-19 pandemic', 'authors': \"['Mackowiak Philip A.']\", 'doi': '10.1080/20009666.2020.1855706'}, Similarity: 0.8808\n",
            "Node: {'date': '01-01', 'journal': 'Journal of Community Hospital Internal Medicine Perspectives', 'hub': 0.0, 'auth': 2.929322855193021e-37, 'subjects': 'Research Article', 'pmc': 'PMC9924620', 'abstract': 'As the novel COVID-19 pandemic was on the rise, its impact on the healthcare system was devastating. Patients became more reluctant to present to the hospital and elective procedures were being postponed for patient safety. We wanted to assess the effects of the COVID-19 pandemic on the door-to-device time in our small community hospital in the heart of Trenton, New Jersey. We created a retrospective study that evaluated all STEMI cases that presented to our institute from January 2018 until the end of May, 2021. Our primary outcome was the door-to-device time. Secondary outcomes were the length of hospital stay, ICU admission, length of ICU stay, cardiac arrest, and death during the hospitalization. We studied 114 patients that presented with STEMI to our emergency department, 77 of these patients presented pre-COVID-19, and 37 presented during the pandemic. Our median door-to-device for STEMI cases pre-COVID-19, and during the pandemic were 70 min (IQR 84–57) and 70 min (IQR 88–59) respectively with no significant difference found (P-value 0.55, Mann Whitney Test). It is, however, interesting to note that the number of STEMI admissions significantly decreased during the pandemic era. There are limitations to our study, most noticeably the number of STEMI cases at our small community hospital which limits its generalizability. Moreover, we did not assess other comorbidities which might have confounded our outcomes and we were also unable to follow patients post-discharge to assess the long-term sequela of their STEMI admission. Therefore, more dedicated studies of this clinical conundrum are required to further assess and implement guidelines for the future.', 'pmid': '36817303', 'title': 'Comparison of STEMI Door-To-Device Time During the COVID-19 Crisis in a New Jersey Inner City Community Hospital', 'authors': '[]', 'doi': '10.55729/2000-9666.1138'}, Similarity: 0.8806\n",
            "Node: {'date': '01-01', 'journal': 'Information Technology & Management', 'hub': 0.0, 'auth': 3.030484905162655e-96, 'subjects': 'Article', 'pmc': 'PMC10010949', 'abstract': 'The purpose of this study was to investigate decision-makers’ views on changes that robotics will create in welfare services. The purpose was also to discover what the opportunities and challenges are in human–robot interaction during these changes and how to manage these changes. As a research method, an online survey was used. The survey was sent to Finnish decision-makers (N\\u2009=\\u2009184). They were divided into three groups: Techno-positive (n\\u2009=\\u200966), Techno-neutral (n\\u2009=\\u200947), and Techno-critical (n\\u2009=\\u200971). According to the results, more than 80% of the respondents saw that robots can offer support in existing work tasks, and more than 70% saw that the robots can do existing tasks. The most often mentioned challenges were the reduction of interaction and the reduction of human touch. Further, there are various knowledge needs among the respondents. Most of the knowledge needs were not based on the technical use of the robots; rather, they were quite scattered. The results suggest that successful use and implementation of robots in welfare services require a comprehensive plan and change agents. This study suggests that techno-positive people could act as change agents, assisting in implementing the changes. In addition, to manage change in the welfare services it is essential to improve the quality of the information, solve the resistance to change, create organizational awareness, and understanding, and establish a psychological commitment to change the processes.', 'title': 'Managing changes in the environment of human–robot interaction and welfare services', 'authors': \"['Tuisku Outi', 'Parjanen Satu', 'Hyypiä Mirva', 'Pekkarinen Satu']\", 'doi': '10.1007/s10799-023-00393-z'}, Similarity: 0.8803\n"
          ]
        }
      ]
    }
  ]
}