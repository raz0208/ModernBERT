{
  "nbformat": 4,
  "nbformat_minor": 0,
  "metadata": {
    "colab": {
      "provenance": [],
      "authorship_tag": "ABX9TyN2bbwzxo0V1RIuPqHvlxpk",
      "include_colab_link": true
    },
    "kernelspec": {
      "name": "python3",
      "display_name": "Python 3"
    },
    "language_info": {
      "name": "python"
    }
  },
  "cells": [
    {
      "cell_type": "markdown",
      "metadata": {
        "id": "view-in-github",
        "colab_type": "text"
      },
      "source": [
        "<a href=\"https://colab.research.google.com/github/raz0208/ModernBERT/blob/main/EmbeddingsAnalysis.ipynb\" target=\"_parent\"><img src=\"https://colab.research.google.com/assets/colab-badge.svg\" alt=\"Open In Colab\"/></a>"
      ]
    },
    {
      "cell_type": "code",
      "execution_count": 1,
      "metadata": {
        "id": "zX1govQjy4NJ"
      },
      "outputs": [],
      "source": [
        "# Import required libraries\n",
        "import pandas as pd\n",
        "import numpy as np\n",
        "import matplotlib.pyplot as plt\n",
        "import seaborn as sns"
      ]
    },
    {
      "cell_type": "code",
      "source": [
        "# Read the embeeding datasets\n",
        "AbsEmb = pd.read_csv('AbsEmbSample.csv')\n",
        "FRPEmb = pd.read_csv('FRPEmbSample.csv')\n",
        "\n",
        "# Show the datasets\n",
        "### Abstract Embeddings Sample Dataset\n",
        "print('Abstract Embedding:')\n",
        "print(AbsEmb)\n",
        "\n",
        "print('\\n')\n",
        "\n",
        "### FRP Embeddings Sample Dastaset\n",
        "print('FRP Embedding:')\n",
        "print(FRPEmb)"
      ],
      "metadata": {
        "colab": {
          "base_uri": "https://localhost:8080/"
        },
        "id": "8L6h9BhL1vXL",
        "outputId": "aa216eb7-cf83-4e83-e39d-a47bbaac150d"
      },
      "execution_count": 9,
      "outputs": [
        {
          "output_type": "stream",
          "name": "stdout",
          "text": [
            "Abstract Embedding:\n",
            "                                                    n\n",
            "0   (:ABSTRACT:EMBEDDING {embedding: [0.0249564535...\n",
            "1   (:ABSTRACT:EMBEDDING {embedding: [-0.027791634...\n",
            "2   (:ABSTRACT:EMBEDDING {embedding: [0.0969770029...\n",
            "3   (:ABSTRACT:EMBEDDING {embedding: [0.2760798931...\n",
            "4   (:ABSTRACT:EMBEDDING {embedding: [0.1864240765...\n",
            "5   (:ABSTRACT:EMBEDDING {embedding: [0.5519587397...\n",
            "6   (:ABSTRACT:EMBEDDING {embedding: [0.2259489595...\n",
            "7   (:ABSTRACT:EMBEDDING {embedding: [0.5420029163...\n",
            "8   (:ABSTRACT:EMBEDDING {embedding: [0.3116444647...\n",
            "9   (:ABSTRACT:EMBEDDING {embedding: [-0.066300943...\n",
            "10  (:ABSTRACT:EMBEDDING {embedding: [0.4122858047...\n",
            "11  (:ABSTRACT:EMBEDDING {embedding: [-0.073297388...\n",
            "12  (:ABSTRACT:EMBEDDING {embedding: [0.2666676938...\n",
            "13  (:ABSTRACT:EMBEDDING {embedding: [-0.001217549...\n",
            "14  (:ABSTRACT:EMBEDDING {embedding: [0.4020807743...\n",
            "15  (:ABSTRACT:EMBEDDING {embedding: [0.5205169916...\n",
            "16  (:ABSTRACT:EMBEDDING {embedding: [0.2694012224...\n",
            "17  (:ABSTRACT:EMBEDDING {embedding: [0.2478905022...\n",
            "18  (:ABSTRACT:EMBEDDING {embedding: [0.0759436115...\n",
            "19  (:ABSTRACT:EMBEDDING {embedding: [0.3170302212...\n",
            "20  (:ABSTRACT:EMBEDDING {embedding: [0.1399122476...\n",
            "21  (:ABSTRACT:EMBEDDING {embedding: [-0.284525722...\n",
            "22  (:ABSTRACT:EMBEDDING {embedding: [0.2968811690...\n",
            "23  (:ABSTRACT:EMBEDDING {embedding: [0.2249358147...\n",
            "24  (:ABSTRACT:EMBEDDING {embedding: [0.3201879262...\n",
            "\n",
            "\n",
            "FRP Embedding:\n",
            "                                                    n\n",
            "0   (:EMBEDDING:FRP {embedding: [-0.15957617759704...\n",
            "1   (:EMBEDDING:FRP {embedding: [-0.15957617759704...\n",
            "2   (:EMBEDDING:FRP {embedding: [-0.15957617759704...\n",
            "3   (:EMBEDDING:FRP {embedding: [-0.15957617759704...\n",
            "4   (:EMBEDDING:FRP {embedding: [-0.15957617759704...\n",
            "5   (:EMBEDDING:FRP {embedding: [-0.15957617759704...\n",
            "6   (:EMBEDDING:FRP {embedding: [-0.15957617759704...\n",
            "7   (:EMBEDDING:FRP {embedding: [-0.15957617759704...\n",
            "8   (:EMBEDDING:FRP {embedding: [-0.15957617759704...\n",
            "9   (:EMBEDDING:FRP {embedding: [-0.15957617759704...\n",
            "10  (:EMBEDDING:FRP {embedding: [-0.15957617759704...\n",
            "11  (:EMBEDDING:FRP {embedding: [-0.15957617759704...\n",
            "12  (:EMBEDDING:FRP {embedding: [-0.15957617759704...\n",
            "13  (:EMBEDDING:FRP {embedding: [-0.15957617759704...\n",
            "14  (:EMBEDDING:FRP {embedding: [-0.15957617759704...\n",
            "15  (:EMBEDDING:FRP {embedding: [-0.15957617759704...\n",
            "16  (:EMBEDDING:FRP {embedding: [-0.15957617759704...\n",
            "17  (:EMBEDDING:FRP {embedding: [-0.15957617759704...\n",
            "18  (:EMBEDDING:FRP {embedding: [-0.15957617759704...\n",
            "19  (:EMBEDDING:FRP {embedding: [-0.15957617759704...\n",
            "20  (:EMBEDDING:FRP {embedding: [-0.15957617759704...\n",
            "21  (:EMBEDDING:FRP {embedding: [-0.15957617759704...\n",
            "22  (:EMBEDDING:FRP {embedding: [-0.15957617759704...\n",
            "23  (:EMBEDDING:FRP {embedding: [-0.15957617759704...\n",
            "24  (:EMBEDDING:FRP {embedding: [-0.15957617759704...\n"
          ]
        }
      ]
    }
  ]
}